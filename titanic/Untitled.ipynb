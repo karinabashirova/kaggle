{
 "cells": [
  {
   "cell_type": "code",
   "execution_count": 405,
   "metadata": {
    "ExecuteTime": {
     "end_time": "2021-04-29T08:09:33.201111Z",
     "start_time": "2021-04-29T08:09:33.183598Z"
    }
   },
   "outputs": [],
   "source": [
    "import copy\n",
    "from datetime import date, timedelta, datetime\n",
    "import numpy as np\n",
    "import pandas as pd\n",
    "import matplotlib.pyplot as plt\n",
    "import plotly.graph_objects as go\n",
    "from plotly.subplots import make_subplots\n",
    "import random\n",
    "import csv\n",
    "from sklearn import tree\n",
    "from itertools import *\n",
    "from sklearn.ensemble import RandomForestClassifier, ExtraTreesClassifier\n",
    "from sklearn import tree\n",
    "from sklearn.tree import DecisionTreeClassifier\n",
    "from sklearn.datasets import make_classification\n",
    "from sklearn.metrics import f1_score, roc_auc_score\n",
    "from statsmodels.tsa.seasonal import seasonal_decompose\n",
    "from scipy.signal import savgol_filter, argrelextrema\n",
    "from sklearn.model_selection import RandomizedSearchCV, GridSearchCV\n",
    "from sklearn.model_selection import train_test_split\n",
    "import xgboost as xgb\n",
    "from sklearn.model_selection import RandomizedSearchCV, GridSearchCV\n",
    "from sklearn.model_selection import train_test_split\n",
    "from sklearn.neighbors import KNeighborsClassifier\n",
    "\n",
    "import warnings\n",
    "warnings.filterwarnings(\"ignore\")"
   ]
  },
  {
   "cell_type": "markdown",
   "metadata": {},
   "source": [
    "### Loading data"
   ]
  },
  {
   "cell_type": "code",
   "execution_count": 406,
   "metadata": {
    "ExecuteTime": {
     "end_time": "2021-04-29T08:09:34.102807Z",
     "start_time": "2021-04-29T08:09:34.063910Z"
    }
   },
   "outputs": [
    {
     "data": {
      "text/html": [
       "<div>\n",
       "<style scoped>\n",
       "    .dataframe tbody tr th:only-of-type {\n",
       "        vertical-align: middle;\n",
       "    }\n",
       "\n",
       "    .dataframe tbody tr th {\n",
       "        vertical-align: top;\n",
       "    }\n",
       "\n",
       "    .dataframe thead th {\n",
       "        text-align: right;\n",
       "    }\n",
       "</style>\n",
       "<table border=\"1\" class=\"dataframe\">\n",
       "  <thead>\n",
       "    <tr style=\"text-align: right;\">\n",
       "      <th></th>\n",
       "      <th>Survived</th>\n",
       "      <th>Pclass</th>\n",
       "      <th>Name</th>\n",
       "      <th>Sex</th>\n",
       "      <th>Age</th>\n",
       "      <th>SibSp</th>\n",
       "      <th>Parch</th>\n",
       "      <th>Ticket</th>\n",
       "      <th>Fare</th>\n",
       "      <th>Cabin</th>\n",
       "      <th>Embarked</th>\n",
       "    </tr>\n",
       "    <tr>\n",
       "      <th>PassengerId</th>\n",
       "      <th></th>\n",
       "      <th></th>\n",
       "      <th></th>\n",
       "      <th></th>\n",
       "      <th></th>\n",
       "      <th></th>\n",
       "      <th></th>\n",
       "      <th></th>\n",
       "      <th></th>\n",
       "      <th></th>\n",
       "      <th></th>\n",
       "    </tr>\n",
       "  </thead>\n",
       "  <tbody>\n",
       "    <tr>\n",
       "      <th>1</th>\n",
       "      <td>0</td>\n",
       "      <td>3</td>\n",
       "      <td>Braund, Mr. Owen Harris</td>\n",
       "      <td>male</td>\n",
       "      <td>22.0</td>\n",
       "      <td>1</td>\n",
       "      <td>0</td>\n",
       "      <td>A/5 21171</td>\n",
       "      <td>7.2500</td>\n",
       "      <td>NaN</td>\n",
       "      <td>S</td>\n",
       "    </tr>\n",
       "    <tr>\n",
       "      <th>2</th>\n",
       "      <td>1</td>\n",
       "      <td>1</td>\n",
       "      <td>Cumings, Mrs. John Bradley (Florence Briggs Th...</td>\n",
       "      <td>female</td>\n",
       "      <td>38.0</td>\n",
       "      <td>1</td>\n",
       "      <td>0</td>\n",
       "      <td>PC 17599</td>\n",
       "      <td>71.2833</td>\n",
       "      <td>C85</td>\n",
       "      <td>C</td>\n",
       "    </tr>\n",
       "    <tr>\n",
       "      <th>3</th>\n",
       "      <td>1</td>\n",
       "      <td>3</td>\n",
       "      <td>Heikkinen, Miss. Laina</td>\n",
       "      <td>female</td>\n",
       "      <td>26.0</td>\n",
       "      <td>0</td>\n",
       "      <td>0</td>\n",
       "      <td>STON/O2. 3101282</td>\n",
       "      <td>7.9250</td>\n",
       "      <td>NaN</td>\n",
       "      <td>S</td>\n",
       "    </tr>\n",
       "    <tr>\n",
       "      <th>4</th>\n",
       "      <td>1</td>\n",
       "      <td>1</td>\n",
       "      <td>Futrelle, Mrs. Jacques Heath (Lily May Peel)</td>\n",
       "      <td>female</td>\n",
       "      <td>35.0</td>\n",
       "      <td>1</td>\n",
       "      <td>0</td>\n",
       "      <td>113803</td>\n",
       "      <td>53.1000</td>\n",
       "      <td>C123</td>\n",
       "      <td>S</td>\n",
       "    </tr>\n",
       "    <tr>\n",
       "      <th>5</th>\n",
       "      <td>0</td>\n",
       "      <td>3</td>\n",
       "      <td>Allen, Mr. William Henry</td>\n",
       "      <td>male</td>\n",
       "      <td>35.0</td>\n",
       "      <td>0</td>\n",
       "      <td>0</td>\n",
       "      <td>373450</td>\n",
       "      <td>8.0500</td>\n",
       "      <td>NaN</td>\n",
       "      <td>S</td>\n",
       "    </tr>\n",
       "    <tr>\n",
       "      <th>...</th>\n",
       "      <td>...</td>\n",
       "      <td>...</td>\n",
       "      <td>...</td>\n",
       "      <td>...</td>\n",
       "      <td>...</td>\n",
       "      <td>...</td>\n",
       "      <td>...</td>\n",
       "      <td>...</td>\n",
       "      <td>...</td>\n",
       "      <td>...</td>\n",
       "      <td>...</td>\n",
       "    </tr>\n",
       "    <tr>\n",
       "      <th>887</th>\n",
       "      <td>0</td>\n",
       "      <td>2</td>\n",
       "      <td>Montvila, Rev. Juozas</td>\n",
       "      <td>male</td>\n",
       "      <td>27.0</td>\n",
       "      <td>0</td>\n",
       "      <td>0</td>\n",
       "      <td>211536</td>\n",
       "      <td>13.0000</td>\n",
       "      <td>NaN</td>\n",
       "      <td>S</td>\n",
       "    </tr>\n",
       "    <tr>\n",
       "      <th>888</th>\n",
       "      <td>1</td>\n",
       "      <td>1</td>\n",
       "      <td>Graham, Miss. Margaret Edith</td>\n",
       "      <td>female</td>\n",
       "      <td>19.0</td>\n",
       "      <td>0</td>\n",
       "      <td>0</td>\n",
       "      <td>112053</td>\n",
       "      <td>30.0000</td>\n",
       "      <td>B42</td>\n",
       "      <td>S</td>\n",
       "    </tr>\n",
       "    <tr>\n",
       "      <th>889</th>\n",
       "      <td>0</td>\n",
       "      <td>3</td>\n",
       "      <td>Johnston, Miss. Catherine Helen \"Carrie\"</td>\n",
       "      <td>female</td>\n",
       "      <td>NaN</td>\n",
       "      <td>1</td>\n",
       "      <td>2</td>\n",
       "      <td>W./C. 6607</td>\n",
       "      <td>23.4500</td>\n",
       "      <td>NaN</td>\n",
       "      <td>S</td>\n",
       "    </tr>\n",
       "    <tr>\n",
       "      <th>890</th>\n",
       "      <td>1</td>\n",
       "      <td>1</td>\n",
       "      <td>Behr, Mr. Karl Howell</td>\n",
       "      <td>male</td>\n",
       "      <td>26.0</td>\n",
       "      <td>0</td>\n",
       "      <td>0</td>\n",
       "      <td>111369</td>\n",
       "      <td>30.0000</td>\n",
       "      <td>C148</td>\n",
       "      <td>C</td>\n",
       "    </tr>\n",
       "    <tr>\n",
       "      <th>891</th>\n",
       "      <td>0</td>\n",
       "      <td>3</td>\n",
       "      <td>Dooley, Mr. Patrick</td>\n",
       "      <td>male</td>\n",
       "      <td>32.0</td>\n",
       "      <td>0</td>\n",
       "      <td>0</td>\n",
       "      <td>370376</td>\n",
       "      <td>7.7500</td>\n",
       "      <td>NaN</td>\n",
       "      <td>Q</td>\n",
       "    </tr>\n",
       "  </tbody>\n",
       "</table>\n",
       "<p>891 rows × 11 columns</p>\n",
       "</div>"
      ],
      "text/plain": [
       "             Survived  Pclass  \\\n",
       "PassengerId                     \n",
       "1                   0       3   \n",
       "2                   1       1   \n",
       "3                   1       3   \n",
       "4                   1       1   \n",
       "5                   0       3   \n",
       "...               ...     ...   \n",
       "887                 0       2   \n",
       "888                 1       1   \n",
       "889                 0       3   \n",
       "890                 1       1   \n",
       "891                 0       3   \n",
       "\n",
       "                                                          Name     Sex   Age  \\\n",
       "PassengerId                                                                    \n",
       "1                                      Braund, Mr. Owen Harris    male  22.0   \n",
       "2            Cumings, Mrs. John Bradley (Florence Briggs Th...  female  38.0   \n",
       "3                                       Heikkinen, Miss. Laina  female  26.0   \n",
       "4                 Futrelle, Mrs. Jacques Heath (Lily May Peel)  female  35.0   \n",
       "5                                     Allen, Mr. William Henry    male  35.0   \n",
       "...                                                        ...     ...   ...   \n",
       "887                                      Montvila, Rev. Juozas    male  27.0   \n",
       "888                               Graham, Miss. Margaret Edith  female  19.0   \n",
       "889                   Johnston, Miss. Catherine Helen \"Carrie\"  female   NaN   \n",
       "890                                      Behr, Mr. Karl Howell    male  26.0   \n",
       "891                                        Dooley, Mr. Patrick    male  32.0   \n",
       "\n",
       "             SibSp  Parch            Ticket     Fare Cabin Embarked  \n",
       "PassengerId                                                          \n",
       "1                1      0         A/5 21171   7.2500   NaN        S  \n",
       "2                1      0          PC 17599  71.2833   C85        C  \n",
       "3                0      0  STON/O2. 3101282   7.9250   NaN        S  \n",
       "4                1      0            113803  53.1000  C123        S  \n",
       "5                0      0            373450   8.0500   NaN        S  \n",
       "...            ...    ...               ...      ...   ...      ...  \n",
       "887              0      0            211536  13.0000   NaN        S  \n",
       "888              0      0            112053  30.0000   B42        S  \n",
       "889              1      2        W./C. 6607  23.4500   NaN        S  \n",
       "890              0      0            111369  30.0000  C148        C  \n",
       "891              0      0            370376   7.7500   NaN        Q  \n",
       "\n",
       "[891 rows x 11 columns]"
      ]
     },
     "execution_count": 406,
     "metadata": {},
     "output_type": "execute_result"
    }
   ],
   "source": [
    "df_train = pd.read_csv('train.csv').set_index('PassengerId')\n",
    "df_test = pd.read_csv('test.csv').set_index('PassengerId')\n",
    "df_train"
   ]
  },
  {
   "cell_type": "code",
   "execution_count": 407,
   "metadata": {
    "ExecuteTime": {
     "end_time": "2021-04-29T08:09:36.735197Z",
     "start_time": "2021-04-29T08:09:36.696300Z"
    }
   },
   "outputs": [
    {
     "data": {
      "text/html": [
       "<div>\n",
       "<style scoped>\n",
       "    .dataframe tbody tr th:only-of-type {\n",
       "        vertical-align: middle;\n",
       "    }\n",
       "\n",
       "    .dataframe tbody tr th {\n",
       "        vertical-align: top;\n",
       "    }\n",
       "\n",
       "    .dataframe thead th {\n",
       "        text-align: right;\n",
       "    }\n",
       "</style>\n",
       "<table border=\"1\" class=\"dataframe\">\n",
       "  <thead>\n",
       "    <tr style=\"text-align: right;\">\n",
       "      <th></th>\n",
       "      <th>count</th>\n",
       "      <th>mean</th>\n",
       "      <th>std</th>\n",
       "      <th>min</th>\n",
       "      <th>25%</th>\n",
       "      <th>50%</th>\n",
       "      <th>75%</th>\n",
       "      <th>max</th>\n",
       "    </tr>\n",
       "    <tr>\n",
       "      <th>title</th>\n",
       "      <th></th>\n",
       "      <th></th>\n",
       "      <th></th>\n",
       "      <th></th>\n",
       "      <th></th>\n",
       "      <th></th>\n",
       "      <th></th>\n",
       "      <th></th>\n",
       "    </tr>\n",
       "  </thead>\n",
       "  <tbody>\n",
       "    <tr>\n",
       "      <th>Master</th>\n",
       "      <td>36.0</td>\n",
       "      <td>4.574167</td>\n",
       "      <td>3.619872</td>\n",
       "      <td>0.42</td>\n",
       "      <td>1.000</td>\n",
       "      <td>3.5</td>\n",
       "      <td>8.0</td>\n",
       "      <td>12.0</td>\n",
       "    </tr>\n",
       "    <tr>\n",
       "      <th>Miss</th>\n",
       "      <td>150.0</td>\n",
       "      <td>21.860000</td>\n",
       "      <td>12.828485</td>\n",
       "      <td>0.75</td>\n",
       "      <td>14.625</td>\n",
       "      <td>21.5</td>\n",
       "      <td>30.0</td>\n",
       "      <td>63.0</td>\n",
       "    </tr>\n",
       "    <tr>\n",
       "      <th>Mr</th>\n",
       "      <td>409.0</td>\n",
       "      <td>32.739609</td>\n",
       "      <td>12.875632</td>\n",
       "      <td>11.00</td>\n",
       "      <td>23.000</td>\n",
       "      <td>30.0</td>\n",
       "      <td>40.0</td>\n",
       "      <td>80.0</td>\n",
       "    </tr>\n",
       "    <tr>\n",
       "      <th>Mrs</th>\n",
       "      <td>110.0</td>\n",
       "      <td>35.981818</td>\n",
       "      <td>11.390469</td>\n",
       "      <td>14.00</td>\n",
       "      <td>28.000</td>\n",
       "      <td>35.0</td>\n",
       "      <td>44.0</td>\n",
       "      <td>63.0</td>\n",
       "    </tr>\n",
       "    <tr>\n",
       "      <th>Other</th>\n",
       "      <td>9.0</td>\n",
       "      <td>45.888889</td>\n",
       "      <td>12.604012</td>\n",
       "      <td>27.00</td>\n",
       "      <td>38.000</td>\n",
       "      <td>51.0</td>\n",
       "      <td>56.0</td>\n",
       "      <td>60.0</td>\n",
       "    </tr>\n",
       "  </tbody>\n",
       "</table>\n",
       "</div>"
      ],
      "text/plain": [
       "        count       mean        std    min     25%   50%   75%   max\n",
       "title                                                               \n",
       "Master   36.0   4.574167   3.619872   0.42   1.000   3.5   8.0  12.0\n",
       "Miss    150.0  21.860000  12.828485   0.75  14.625  21.5  30.0  63.0\n",
       "Mr      409.0  32.739609  12.875632  11.00  23.000  30.0  40.0  80.0\n",
       "Mrs     110.0  35.981818  11.390469  14.00  28.000  35.0  44.0  63.0\n",
       "Other     9.0  45.888889  12.604012  27.00  38.000  51.0  56.0  60.0"
      ]
     },
     "execution_count": 407,
     "metadata": {},
     "output_type": "execute_result"
    }
   ],
   "source": [
    "df_train['title'] = df_train.Name.str.extract('([A-Za-z]+)\\.')\n",
    "df_train['title'].replace(['Mlle','Mme','Ms','Dr','Major','Lady','Countess','Jonkheer','Col','Rev','Capt','Sir','Don'],['Miss','Miss','Miss','Mr','Mr','Mrs','Mrs','Other','Other','Other','Mr','Mr','Mr'],inplace=True)\n",
    "df_train.groupby('title').Age.describe()"
   ]
  },
  {
   "cell_type": "code",
   "execution_count": 408,
   "metadata": {
    "ExecuteTime": {
     "end_time": "2021-04-29T08:09:38.361882Z",
     "start_time": "2021-04-29T08:09:38.342959Z"
    }
   },
   "outputs": [],
   "source": [
    "df_train.loc[(df_train.Age.isnull())&(df_train.title=='Mr'),'Age']=33\n",
    "df_train.loc[(df_train.Age.isnull())&(df_train.title=='Mrs'),'Age']=36\n",
    "df_train.loc[(df_train.Age.isnull())&(df_train.title=='Master'),'Age']=5\n",
    "df_train.loc[(df_train.Age.isnull())&(df_train.title=='Miss'),'Age']=22\n",
    "df_train.loc[(df_train.Age.isnull())&(df_train.title=='Other'),'Age']=46"
   ]
  },
  {
   "cell_type": "code",
   "execution_count": 409,
   "metadata": {
    "ExecuteTime": {
     "end_time": "2021-04-29T08:09:39.277518Z",
     "start_time": "2021-04-29T08:09:39.240624Z"
    }
   },
   "outputs": [
    {
     "data": {
      "text/html": [
       "<div>\n",
       "<style scoped>\n",
       "    .dataframe tbody tr th:only-of-type {\n",
       "        vertical-align: middle;\n",
       "    }\n",
       "\n",
       "    .dataframe tbody tr th {\n",
       "        vertical-align: top;\n",
       "    }\n",
       "\n",
       "    .dataframe thead th {\n",
       "        text-align: right;\n",
       "    }\n",
       "</style>\n",
       "<table border=\"1\" class=\"dataframe\">\n",
       "  <thead>\n",
       "    <tr style=\"text-align: right;\">\n",
       "      <th></th>\n",
       "      <th>count</th>\n",
       "      <th>mean</th>\n",
       "      <th>std</th>\n",
       "      <th>min</th>\n",
       "      <th>25%</th>\n",
       "      <th>50%</th>\n",
       "      <th>75%</th>\n",
       "      <th>max</th>\n",
       "    </tr>\n",
       "    <tr>\n",
       "      <th>title</th>\n",
       "      <th></th>\n",
       "      <th></th>\n",
       "      <th></th>\n",
       "      <th></th>\n",
       "      <th></th>\n",
       "      <th></th>\n",
       "      <th></th>\n",
       "      <th></th>\n",
       "    </tr>\n",
       "  </thead>\n",
       "  <tbody>\n",
       "    <tr>\n",
       "      <th>Master</th>\n",
       "      <td>17.0</td>\n",
       "      <td>7.406471</td>\n",
       "      <td>4.672470</td>\n",
       "      <td>0.33</td>\n",
       "      <td>5.00</td>\n",
       "      <td>7.00</td>\n",
       "      <td>11.50</td>\n",
       "      <td>14.5</td>\n",
       "    </tr>\n",
       "    <tr>\n",
       "      <th>Miss</th>\n",
       "      <td>64.0</td>\n",
       "      <td>21.774844</td>\n",
       "      <td>10.457716</td>\n",
       "      <td>0.17</td>\n",
       "      <td>17.75</td>\n",
       "      <td>22.00</td>\n",
       "      <td>29.25</td>\n",
       "      <td>45.0</td>\n",
       "    </tr>\n",
       "    <tr>\n",
       "      <th>Mr</th>\n",
       "      <td>184.0</td>\n",
       "      <td>32.114130</td>\n",
       "      <td>11.873560</td>\n",
       "      <td>14.00</td>\n",
       "      <td>23.00</td>\n",
       "      <td>28.75</td>\n",
       "      <td>40.00</td>\n",
       "      <td>67.0</td>\n",
       "    </tr>\n",
       "    <tr>\n",
       "      <th>Mrs</th>\n",
       "      <td>63.0</td>\n",
       "      <td>38.904762</td>\n",
       "      <td>14.912340</td>\n",
       "      <td>16.00</td>\n",
       "      <td>26.00</td>\n",
       "      <td>37.00</td>\n",
       "      <td>49.00</td>\n",
       "      <td>76.0</td>\n",
       "    </tr>\n",
       "    <tr>\n",
       "      <th>Other</th>\n",
       "      <td>4.0</td>\n",
       "      <td>42.750000</td>\n",
       "      <td>9.810708</td>\n",
       "      <td>30.00</td>\n",
       "      <td>38.25</td>\n",
       "      <td>44.00</td>\n",
       "      <td>48.50</td>\n",
       "      <td>53.0</td>\n",
       "    </tr>\n",
       "  </tbody>\n",
       "</table>\n",
       "</div>"
      ],
      "text/plain": [
       "        count       mean        std    min    25%    50%    75%   max\n",
       "title                                                                \n",
       "Master   17.0   7.406471   4.672470   0.33   5.00   7.00  11.50  14.5\n",
       "Miss     64.0  21.774844  10.457716   0.17  17.75  22.00  29.25  45.0\n",
       "Mr      184.0  32.114130  11.873560  14.00  23.00  28.75  40.00  67.0\n",
       "Mrs      63.0  38.904762  14.912340  16.00  26.00  37.00  49.00  76.0\n",
       "Other     4.0  42.750000   9.810708  30.00  38.25  44.00  48.50  53.0"
      ]
     },
     "execution_count": 409,
     "metadata": {},
     "output_type": "execute_result"
    }
   ],
   "source": [
    "df_test['title'] = df_test.Name.str.extract('([A-Za-z]+)\\.')\n",
    "df_test['title'].replace(['Mlle','Mme','Ms','Dr','Major','Lady','Countess','Jonkheer','Col','Rev','Capt','Sir','Don', 'Dona'],['Miss','Miss','Miss','Mr','Mr','Mrs','Mrs','Other','Other','Other','Mr','Mr','Mr', 'Mrs'],inplace=True)\n",
    "df_test.groupby('title').Age.describe()"
   ]
  },
  {
   "cell_type": "code",
   "execution_count": 410,
   "metadata": {
    "ExecuteTime": {
     "end_time": "2021-04-29T08:09:40.220538Z",
     "start_time": "2021-04-29T08:09:40.191120Z"
    }
   },
   "outputs": [],
   "source": [
    "df_test.loc[(df_test.Age.isnull())&(df_test.title=='Mr'),'Age']=32\n",
    "df_test.loc[(df_test.Age.isnull())&(df_test.title=='Mrs'),'Age']=39\n",
    "df_test.loc[(df_test.Age.isnull())&(df_test.title=='Master'),'Age']=7\n",
    "df_test.loc[(df_test.Age.isnull())&(df_test.title=='Miss'),'Age']=22\n",
    "df_test.loc[(df_test.Age.isnull())&(df_test.title=='Other'),'Age']=43"
   ]
  },
  {
   "cell_type": "code",
   "execution_count": 411,
   "metadata": {
    "ExecuteTime": {
     "end_time": "2021-04-29T08:09:41.589584Z",
     "start_time": "2021-04-29T08:09:41.574971Z"
    }
   },
   "outputs": [],
   "source": [
    "# df_train[np.isnan(df_train.Age)]"
   ]
  },
  {
   "cell_type": "code",
   "execution_count": 604,
   "metadata": {
    "ExecuteTime": {
     "end_time": "2021-04-29T10:10:52.406940Z",
     "start_time": "2021-04-29T10:10:52.369227Z"
    }
   },
   "outputs": [
    {
     "name": "stdout",
     "output_type": "stream",
     "text": [
      "<class 'pandas.core.frame.DataFrame'>\n",
      "Int64Index: 891 entries, 1 to 891\n",
      "Data columns (total 8 columns):\n",
      " #   Column    Non-Null Count  Dtype  \n",
      "---  ------    --------------  -----  \n",
      " 0   Pclass    891 non-null    int64  \n",
      " 1   Sex       891 non-null    bool   \n",
      " 2   Age       891 non-null    float64\n",
      " 3   SibSp     891 non-null    int64  \n",
      " 4   Parch     891 non-null    int64  \n",
      " 5   Fare      891 non-null    float64\n",
      " 6   Embarked  889 non-null    object \n",
      " 7   title     891 non-null    object \n",
      "dtypes: bool(1), float64(2), int64(3), object(2)\n",
      "memory usage: 56.6+ KB\n"
     ]
    }
   ],
   "source": [
    "from sklearn.preprocessing import RobustScaler\n",
    "\n",
    "X_train = df_train.dropna(subset=['Age']).drop(['Survived', 'Name', 'Ticket', 'Cabin'], axis=1)\n",
    "X_train.Sex[X_train.Sex == 'male'] = False\n",
    "X_train.Sex[X_train.Sex == 'female'] = True\n",
    "\n",
    "X_train.Sex = pd.to_numeric(X_train.Sex)\n",
    "\n",
    "X_train.Fare = np.log1p(X_train.Fare)\n",
    "X_test.Fare = np.log1p(X_test.Fare)\n",
    "\n",
    "y_train = df_train.dropna(subset=['Age']).Survived\n",
    "\n",
    "X_test = df_test.drop(['Name', 'Ticket', 'Cabin'], axis=1)\n",
    "X_test.Sex[X_test.Sex == 'male'] = False\n",
    "X_test.Sex[X_test.Sex == 'female'] = True\n",
    "\n",
    "X_test.Sex = pd.to_numeric(X_test.Sex)\n",
    "\n",
    "X_train.info()"
   ]
  },
  {
   "cell_type": "code",
   "execution_count": 605,
   "metadata": {
    "ExecuteTime": {
     "end_time": "2021-04-29T10:10:54.496148Z",
     "start_time": "2021-04-29T10:10:54.474242Z"
    }
   },
   "outputs": [],
   "source": [
    "X_train['Family'] = X_train.SibSp + X_train.Parch\n",
    "X_test['Family'] = X_test.SibSp + X_test.Parch\n",
    "X_train = X_train.drop(['SibSp', 'Parch'], axis=1)\n",
    "X_test = X_test.drop(['SibSp', 'Parch'], axis=1)\n"
   ]
  },
  {
   "cell_type": "code",
   "execution_count": 606,
   "metadata": {
    "ExecuteTime": {
     "end_time": "2021-04-29T10:10:55.522451Z",
     "start_time": "2021-04-29T10:10:55.498793Z"
    }
   },
   "outputs": [
    {
     "data": {
      "text/plain": [
       "{'Master', 'Miss', 'Mr', 'Mrs', 'Other'}"
      ]
     },
     "execution_count": 606,
     "metadata": {},
     "output_type": "execute_result"
    }
   ],
   "source": [
    "set(X_train.title)"
   ]
  },
  {
   "cell_type": "code",
   "execution_count": 607,
   "metadata": {
    "ExecuteTime": {
     "end_time": "2021-04-29T10:10:56.530413Z",
     "start_time": "2021-04-29T10:10:56.500608Z"
    }
   },
   "outputs": [
    {
     "data": {
      "text/plain": [
       "title\n",
       "Master     23\n",
       "Miss      131\n",
       "Mr         86\n",
       "Mrs       101\n",
       "Other       1\n",
       "Name: Survived, dtype: int64"
      ]
     },
     "execution_count": 607,
     "metadata": {},
     "output_type": "execute_result"
    }
   ],
   "source": [
    "df_train.groupby('title').Survived.sum()"
   ]
  },
  {
   "cell_type": "code",
   "execution_count": 608,
   "metadata": {
    "ExecuteTime": {
     "end_time": "2021-04-29T10:10:58.352062Z",
     "start_time": "2021-04-29T10:10:58.317650Z"
    }
   },
   "outputs": [],
   "source": [
    "X_train.title[X_train.title == 'Master'] = 2\n",
    "X_train.title[X_train.title == 'Miss'] = 5\n",
    "X_train.title[X_train.title == 'Mr'] = 3\n",
    "X_train.title[X_train.title == 'Mrs'] = 4\n",
    "X_train.title[X_train.title == 'Other'] = 1\n",
    "\n",
    "X_test.title[X_test.title == 'Master'] = 2\n",
    "X_test.title[X_test.title == 'Miss'] = 5\n",
    "X_test.title[X_test.title == 'Mr'] = 3\n",
    "X_test.title[X_test.title == 'Mrs'] = 4\n",
    "X_test.title[X_test.title == 'Other'] = 1\n",
    "\n",
    "X_train.title = pd.to_numeric(X_train.title)\n",
    "X_test.title = pd.to_numeric(X_test.title)\n"
   ]
  },
  {
   "cell_type": "code",
   "execution_count": 609,
   "metadata": {
    "ExecuteTime": {
     "end_time": "2021-04-29T10:10:59.298438Z",
     "start_time": "2021-04-29T10:10:59.261609Z"
    }
   },
   "outputs": [],
   "source": [
    "X_train.Embarked[X_train.Embarked.isna()] = 0\n",
    "X_train.Embarked[X_train.Embarked == 'C'] = 2\n",
    "X_train.Embarked[X_train.Embarked == 'Q'] = 1\n",
    "X_train.Embarked[X_train.Embarked == 'S'] = 3\n",
    "\n",
    "X_test.Embarked[X_test.Embarked.isna()] = 0\n",
    "X_test.Embarked[X_test.Embarked == 'C'] = 2\n",
    "X_test.Embarked[X_test.Embarked == 'Q'] = 1\n",
    "X_test.Embarked[X_test.Embarked == 'S'] = 3\n",
    "\n",
    "X_train.Embarked = pd.to_numeric(X_train.Embarked)\n",
    "X_test.Embarked = pd.to_numeric(X_test.Embarked)\n"
   ]
  },
  {
   "cell_type": "code",
   "execution_count": 610,
   "metadata": {
    "ExecuteTime": {
     "end_time": "2021-04-29T10:11:00.060510Z",
     "start_time": "2021-04-29T10:10:59.935230Z"
    }
   },
   "outputs": [
    {
     "data": {
      "text/plain": [
       "(array([ 58.,  46., 213., 169., 255.,  70.,  45.,  24.,   9.,   2.]),\n",
       " array([ 0.42 ,  8.378, 16.336, 24.294, 32.252, 40.21 , 48.168, 56.126,\n",
       "        64.084, 72.042, 80.   ]),\n",
       " <a list of 10 Patch objects>)"
      ]
     },
     "execution_count": 610,
     "metadata": {},
     "output_type": "execute_result"
    },
    {
     "data": {
      "image/png": "[encoded data removed]",
      "text/plain": [
       "<Figure size 432x288 with 1 Axes>"
      ]
     },
     "metadata": {
      "needs_background": "light"
     },
     "output_type": "display_data"
    }
   ],
   "source": [
    "plt.hist(X_train.Age)"
   ]
  },
  {
   "cell_type": "code",
   "execution_count": 519,
   "metadata": {
    "ExecuteTime": {
     "end_time": "2021-04-29T08:42:20.178256Z",
     "start_time": "2021-04-29T08:42:20.166674Z"
    },
    "deletable": false,
    "editable": false,
    "run_control": {
     "frozen": true
    }
   },
   "outputs": [],
   "source": [
    "X_train['Survived'] = y_train"
   ]
  },
  {
   "cell_type": "code",
   "execution_count": 527,
   "metadata": {
    "ExecuteTime": {
     "end_time": "2021-04-29T08:42:31.896603Z",
     "start_time": "2021-04-29T08:42:31.630313Z"
    },
    "scrolled": true
   },
   "outputs": [
    {
     "data": {
      "image/png": "[encoded data removed]",
      "text/plain": [
       "<Figure size 864x720 with 2 Axes>"
      ]
     },
     "metadata": {
      "needs_background": "light"
     },
     "output_type": "display_data"
    }
   ],
   "source": [
    "import seaborn as sns\n",
    "sns.heatmap(X_train.corr(),annot=True,cmap='RdYlGn',linewidths=0.2,annot_kws={'size':12})\n",
    "fig=plt.gcf()\n",
    "fig.set_size_inches(12,10)\n",
    "plt.xticks(fontsize=12)\n",
    "plt.yticks(fontsize=12)\n",
    "plt.show()"
   ]
  },
  {
   "cell_type": "code",
   "execution_count": 8,
   "metadata": {
    "ExecuteTime": {
     "end_time": "2021-05-24T12:06:26.827585Z",
     "start_time": "2021-05-24T12:06:22.160443Z"
    }
   },
   "outputs": [
    {
     "name": "stderr",
     "output_type": "stream",
     "text": [
      "<ipython-input-8-71fbfff54a40>:3: RuntimeWarning: overflow encountered in int_scalars\n",
      "  j = i**i*np.power(i, 2)\n"
     ]
    },
    {
     "name": "stdout",
     "output_type": "stream",
     "text": [
      "--- 4.6469807624816895 seconds ---\n"
     ]
    }
   ],
   "source": [
    "start_time = time.time()\n",
    "for i in range(10000):\n",
    "    j = i**i*np.power(i, 2)\n",
    "print(\"--- %s seconds ---\" % (time.time() - start_time))"
   ]
  },
  {
   "cell_type": "code",
   "execution_count": 4,
   "metadata": {
    "ExecuteTime": {
     "end_time": "2021-05-24T12:01:47.271703Z",
     "start_time": "2021-05-24T12:01:47.130685Z"
    }
   },
   "outputs": [],
   "source": [
    "import time\n",
    "import numpy as np"
   ]
  },
  {
   "cell_type": "code",
   "execution_count": 613,
   "metadata": {
    "ExecuteTime": {
     "end_time": "2021-04-29T10:11:21.828555Z",
     "start_time": "2021-04-29T10:11:21.821574Z"
    }
   },
   "outputs": [
    {
     "data": {
      "text/plain": [
       "Pclass      0\n",
       "Sex         0\n",
       "Age         0\n",
       "Fare        1\n",
       "Embarked    0\n",
       "title       0\n",
       "Family      0\n",
       "dtype: int64"
      ]
     },
     "execution_count": 613,
     "metadata": {},
     "output_type": "execute_result"
    }
   ],
   "source": [
    "X_test.isna().sum()"
   ]
  },
  {
   "cell_type": "code",
   "execution_count": 615,
   "metadata": {
    "ExecuteTime": {
     "end_time": "2021-04-29T10:11:56.526160Z",
     "start_time": "2021-04-29T10:11:56.511025Z"
    }
   },
   "outputs": [],
   "source": [
    "X_test.Fare[X_test.Fare.isna()] = 0"
   ]
  },
  {
   "cell_type": "code",
   "execution_count": 529,
   "metadata": {
    "ExecuteTime": {
     "end_time": "2021-04-29T08:42:34.141814Z",
     "start_time": "2021-04-29T08:42:34.127405Z"
    }
   },
   "outputs": [],
   "source": [
    "X_train1, X_validation, y_train1, y_validation = train_test_split(\n",
    "    X_train, y_train, test_size=0.33, random_state=0)"
   ]
  },
  {
   "cell_type": "code",
   "execution_count": 558,
   "metadata": {
    "ExecuteTime": {
     "end_time": "2021-04-29T08:59:02.463300Z",
     "start_time": "2021-04-29T08:59:02.431057Z"
    }
   },
   "outputs": [
    {
     "data": {
      "text/plain": [
       "(0.8067796610169492, 0.8573825503355704)"
      ]
     },
     "execution_count": 558,
     "metadata": {},
     "output_type": "execute_result"
    }
   ],
   "source": [
    "clf = DecisionTreeClassifier(random_state=0, max_depth=5)\n",
    "clf.fit(X_train1, y_train1)\n",
    "clf.predict(X_validation)\n",
    "clf.score(X_validation, y_validation), clf.score(X_train1, y_train1)"
   ]
  },
  {
   "cell_type": "code",
   "execution_count": 564,
   "metadata": {
    "ExecuteTime": {
     "end_time": "2021-04-29T08:59:26.646880Z",
     "start_time": "2021-04-29T08:59:26.487146Z"
    }
   },
   "outputs": [
    {
     "data": {
      "text/plain": [
       "(0.823728813559322, 0.8557046979865772)"
      ]
     },
     "execution_count": 564,
     "metadata": {},
     "output_type": "execute_result"
    }
   ],
   "source": [
    "clf = RandomForestClassifier(random_state=None, n_estimators=100, max_depth=5)\n",
    "clf.fit(X_train1, y_train1)\n",
    "clf.predict(X_validation)\n",
    "clf.score(X_validation, y_validation), clf.score(X_train1, y_train1)"
   ]
  },
  {
   "cell_type": "code",
   "execution_count": 555,
   "metadata": {
    "ExecuteTime": {
     "end_time": "2021-04-29T08:54:13.871086Z",
     "start_time": "2021-04-29T08:54:13.799280Z"
    },
    "scrolled": true
   },
   "outputs": [
    {
     "data": {
      "text/plain": [
       "(0.8576271186440678, 0.9010067114093959)"
      ]
     },
     "execution_count": 555,
     "metadata": {},
     "output_type": "execute_result"
    }
   ],
   "source": [
    "clf = xgb.XGBClassifier(random_state=0, max_depth=3, n_estimators=120, reg_lambda=0.2, eta=0.1)\n",
    "clf.fit(X_train1, y_train1,\n",
    "        eval_set=[(X_train1, y_train1), (X_validation, y_validation)], eval_metric='error', verbose=False)\n",
    "# clf.predict(X_test)\n",
    "clf.score(X_validation, y_validation), clf.score(X_train1, y_train1)"
   ]
  },
  {
   "cell_type": "code",
   "execution_count": 556,
   "metadata": {
    "ExecuteTime": {
     "end_time": "2021-04-29T08:54:14.314567Z",
     "start_time": "2021-04-29T08:54:14.199209Z"
    }
   },
   "outputs": [
    {
     "data": {
      "text/plain": [
       "<matplotlib.axes._subplots.AxesSubplot at 0x232fd7d77c0>"
      ]
     },
     "execution_count": 556,
     "metadata": {},
     "output_type": "execute_result"
    },
    {
     "data": {
      "image/png": "[encoded data removed]",
      "text/plain": [
       "<Figure size 432x288 with 1 Axes>"
      ]
     },
     "metadata": {
      "needs_background": "light"
     },
     "output_type": "display_data"
    }
   ],
   "source": [
    "pd.Series(clf.feature_importances_,X_train.columns).sort_values(ascending=True).plot.barh(width=0.8,color='#FD0F00')"
   ]
  },
  {
   "cell_type": "code",
   "execution_count": 557,
   "metadata": {
    "ExecuteTime": {
     "end_time": "2021-04-29T08:54:15.733053Z",
     "start_time": "2021-04-29T08:54:15.615295Z"
    }
   },
   "outputs": [
    {
     "data": {
      "text/plain": [
       "[<matplotlib.lines.Line2D at 0x232fd85d9d0>]"
      ]
     },
     "execution_count": 557,
     "metadata": {},
     "output_type": "execute_result"
    },
    {
     "data": {
      "image/png": "[encoded data removed]",
      "text/plain": [
       "<Figure size 432x288 with 1 Axes>"
      ]
     },
     "metadata": {
      "needs_background": "light"
     },
     "output_type": "display_data"
    }
   ],
   "source": [
    "plt.plot(clf.evals_result()['validation_0']['error'])\n",
    "plt.plot(clf.evals_result()['validation_1']['error'])"
   ]
  },
  {
   "cell_type": "code",
   "execution_count": 571,
   "metadata": {
    "ExecuteTime": {
     "end_time": "2021-04-29T09:03:02.099980Z",
     "start_time": "2021-04-29T09:03:02.079296Z"
    }
   },
   "outputs": [],
   "source": [
    "from sklearn.ensemble import VotingClassifier\n",
    "\n",
    "from sklearn.model_selection import cross_val_score"
   ]
  },
  {
   "cell_type": "code",
   "execution_count": 617,
   "metadata": {
    "ExecuteTime": {
     "end_time": "2021-04-30T06:43:12.174008Z",
     "start_time": "2021-04-30T06:43:11.934437Z"
    }
   },
   "outputs": [
    {
     "name": "stdout",
     "output_type": "stream",
     "text": [
      "The accuracy for ensembled model is: 0.8745762711864407\n"
     ]
    }
   ],
   "source": [
    "ensemble_lin_rbf=VotingClassifier(estimators=[#('DT', DecisionTreeClassifier(random_state=0, max_depth=5)),\n",
    "                                              ( 'RFC', RandomForestClassifier(random_state=None, n_estimators=100, max_depth=5)),\n",
    "                                               ('XGB', xgb.XGBClassifier(verbosity=0,random_state=0, max_depth=3, n_estimators=120, reg_lambda=0.2, eta=0.1))],\n",
    "                                      voting='soft').fit(X_train,y_train)\n",
    "print('The accuracy for ensembled model is:',ensemble_lin_rbf.score(X_validation,y_validation))\n",
    "# cross=cross_val_score(ensemble_lin_rbf,X_train,y_train, cv = 10,scoring = \"accuracy\")\n",
    "# print('The cross validated score is',cross.mean())                                  "
   ]
  },
  {
   "cell_type": "code",
   "execution_count": null,
   "metadata": {},
   "outputs": [],
   "source": []
  },
  {
   "cell_type": "code",
   "execution_count": null,
   "metadata": {},
   "outputs": [],
   "source": []
  },
  {
   "cell_type": "code",
   "execution_count": 544,
   "metadata": {
    "ExecuteTime": {
     "end_time": "2021-04-29T08:45:20.359310Z",
     "start_time": "2021-04-29T08:45:20.271571Z"
    },
    "scrolled": true
   },
   "outputs": [
    {
     "data": {
      "text/plain": [
       "(0.8915254237288136, 0.8877665544332211)"
      ]
     },
     "execution_count": 544,
     "metadata": {},
     "output_type": "execute_result"
    }
   ],
   "source": [
    "clf = xgb.XGBClassifier(random_state=0, max_depth=3, n_estimators=120, reg_lambda=0.2, eta=0.1)\n",
    "clf.fit(X_train, y_train,\n",
    "        eval_set=[(X_train, y_train), (X_validation, y_validation)], eval_metric='error', verbose=False)\n",
    "# clf.predict(X_test)\n",
    "clf.score(X_validation, y_validation), clf.score(X_train, y_train)"
   ]
  },
  {
   "cell_type": "code",
   "execution_count": 600,
   "metadata": {
    "ExecuteTime": {
     "end_time": "2021-04-29T09:14:53.144062Z",
     "start_time": "2021-04-29T09:14:28.547743Z"
    }
   },
   "outputs": [
    {
     "name": "stdout",
     "output_type": "stream",
     "text": [
      "Fitting 5 folds for each of 60 candidates, totalling 300 fits\n"
     ]
    },
    {
     "name": "stderr",
     "output_type": "stream",
     "text": [
      "[Parallel(n_jobs=1)]: Using backend SequentialBackend with 1 concurrent workers.\n"
     ]
    },
    {
     "name": "stdout",
     "output_type": "stream",
     "text": [
      "0.8238795518207283\n",
      "XGBClassifier(base_score=0.5, booster='gbtree', colsample_bylevel=1,\n",
      "              colsample_bynode=1, colsample_bytree=1, gamma=0, gpu_id=-1,\n",
      "              importance_type='gain', interaction_constraints='',\n",
      "              learning_rate=0.05, max_delta_step=0, max_depth=3,\n",
      "              min_child_weight=1, missing=nan, monotone_constraints='()',\n",
      "              n_estimators=100, n_jobs=12, num_parallel_tree=1, random_state=0,\n",
      "              reg_alpha=0, reg_lambda=0.2, scale_pos_weight=1, subsample=1,\n",
      "              tree_method='exact', validate_parameters=1, verbosity=None)\n"
     ]
    },
    {
     "name": "stderr",
     "output_type": "stream",
     "text": [
      "[Parallel(n_jobs=1)]: Done 300 out of 300 | elapsed:   24.4s finished\n"
     ]
    }
   ],
   "source": [
    "from sklearn.ensemble import AdaBoostClassifier\n",
    "\n",
    "n_estimators=list(range(100,501,100))\n",
    "learn_rate=[0.05,0.1,0.2,0.3,0.25,0.4,0.5,0.6,0.7,0.8,0.9,1]\n",
    "hyper={'n_estimators':n_estimators,'learning_rate':learn_rate}\n",
    "# n_estimators=120,, eta=0.1\n",
    "gd=GridSearchCV(estimator=xgb.XGBClassifier(max_depth=3,  reg_lambda=0.2),param_grid=hyper,verbose=True)\n",
    "\n",
    "gd.fit(X_train1,y_train1)\n",
    "\n",
    "print(gd.best_score_)\n",
    "print(gd.best_estimator_)"
   ]
  },
  {
   "cell_type": "code",
   "execution_count": 601,
   "metadata": {
    "ExecuteTime": {
     "end_time": "2021-04-29T09:14:58.082657Z",
     "start_time": "2021-04-29T09:14:57.672754Z"
    }
   },
   "outputs": [
    {
     "name": "stdout",
     "output_type": "stream",
     "text": [
      "The cross validated score for XGBoost is: 0.8316978776529338\n"
     ]
    },
    {
     "data": {
      "text/plain": [
       "array([0.78888889, 0.82022472, 0.76404494, 0.88764045, 0.8988764 ,\n",
       "       0.82022472, 0.83146067, 0.7752809 , 0.88764045, 0.84269663])"
      ]
     },
     "execution_count": 601,
     "metadata": {},
     "output_type": "execute_result"
    }
   ],
   "source": [
    "# gd.best_estimator_.fit(X_train1, y_train1)\n",
    "result = cross_val_score(gd.best_estimator_,X_train,y_train,cv=10,scoring='accuracy')\n",
    "print('The cross validated score for XGBoost is:',result.mean())\n",
    "result"
   ]
  },
  {
   "cell_type": "code",
   "execution_count": 598,
   "metadata": {
    "ExecuteTime": {
     "end_time": "2021-04-29T09:12:52.348126Z",
     "start_time": "2021-04-29T09:12:51.903805Z"
    }
   },
   "outputs": [
    {
     "name": "stdout",
     "output_type": "stream",
     "text": [
      "The cross validated score for XGBoost is: 0.8440324594257179\n"
     ]
    },
    {
     "data": {
      "text/plain": [
       "array([0.81111111, 0.83146067, 0.76404494, 0.8988764 , 0.91011236,\n",
       "       0.84269663, 0.88764045, 0.79775281, 0.83146067, 0.86516854])"
      ]
     },
     "execution_count": 598,
     "metadata": {},
     "output_type": "execute_result"
    }
   ],
   "source": [
    "xgboost = xgb.XGBClassifier(max_depth=3, n_estimators=120, reg_lambda=0.2, eta=0.1)\n",
    "result = cross_val_score(xgboost,X_train,y_train,cv=10,scoring='accuracy')\n",
    "print('The cross validated score for XGBoost is:',result.mean())\n",
    "result\n"
   ]
  },
  {
   "cell_type": "code",
   "execution_count": 599,
   "metadata": {
    "ExecuteTime": {
     "end_time": "2021-04-29T09:13:00.698885Z",
     "start_time": "2021-04-29T09:12:58.903728Z"
    }
   },
   "outputs": [
    {
     "name": "stdout",
     "output_type": "stream",
     "text": [
      "The cross validated score for XGBoost is: 0.8159300873907614\n"
     ]
    },
    {
     "data": {
      "text/plain": [
       "array([0.82222222, 0.80898876, 0.7752809 , 0.85393258, 0.82022472,\n",
       "       0.79775281, 0.80898876, 0.79775281, 0.84269663, 0.83146067])"
      ]
     },
     "execution_count": 599,
     "metadata": {},
     "output_type": "execute_result"
    }
   ],
   "source": [
    "xgboost = AdaBoostClassifier(n_estimators=120, learning_rate=0.1)\n",
    "result = cross_val_score(xgboost,X_train,y_train,cv=10,scoring='accuracy')\n",
    "print('The cross validated score for XGBoost is:',result.mean())\n",
    "result"
   ]
  },
  {
   "cell_type": "code",
   "execution_count": 616,
   "metadata": {
    "ExecuteTime": {
     "end_time": "2021-04-29T10:12:00.738581Z",
     "start_time": "2021-04-29T10:12:00.688858Z"
    }
   },
   "outputs": [],
   "source": [
    "df_to_csv = pd.DataFrame({'PassengerId': X_test.index, 'Survived':ensemble_lin_rbf.predict(X_test)})\n",
    "df_to_csv.to_csv('titanic_result_ensemble.csv', index=False)"
   ]
  },
  {
   "cell_type": "code",
   "execution_count": null,
   "metadata": {},
   "outputs": [],
   "source": []
  }
 ],
 "metadata": {
  "kernelspec": {
   "display_name": "Python 3",
   "language": "python",
   "name": "python3"
  },
  "language_info": {
   "codemirror_mode": {
    "name": "ipython",
    "version": 3
   },
   "file_extension": ".py",
   "mimetype": "text/x-python",
   "name": "python",
   "nbconvert_exporter": "python",
   "pygments_lexer": "ipython3",
   "version": "3.8.3"
  }
 },
 "nbformat": 4,
 "nbformat_minor": 4
}
