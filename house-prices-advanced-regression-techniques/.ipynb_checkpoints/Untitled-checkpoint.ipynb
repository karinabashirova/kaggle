{
 "cells": [
  {
   "cell_type": "code",
   "execution_count": 1,
   "metadata": {
    "ExecuteTime": {
     "end_time": "2021-06-15T08:07:39.418608Z",
     "start_time": "2021-06-15T08:07:37.531369Z"
    }
   },
   "outputs": [],
   "source": [
    "import copy\n",
    "from datetime import date, timedelta, datetime\n",
    "import numpy as np\n",
    "import pandas as pd\n",
    "import matplotlib.pyplot as plt\n",
    "import plotly.graph_objects as go\n",
    "from plotly.subplots import make_subplots\n",
    "import random\n",
    "import csv\n",
    "from sklearn import tree\n",
    "from itertools import *\n",
    "from sklearn.ensemble import RandomForestClassifier, ExtraTreesClassifier, RandomForestRegressor\n",
    "from sklearn import tree\n",
    "from sklearn.tree import DecisionTreeClassifier\n",
    "from sklearn.datasets import make_classification\n",
    "from sklearn.metrics import f1_score, roc_auc_score\n",
    "from statsmodels.tsa.seasonal import seasonal_decompose\n",
    "from scipy.signal import savgol_filter, argrelextrema\n",
    "from sklearn.model_selection import RandomizedSearchCV, GridSearchCV\n",
    "from sklearn.model_selection import train_test_split\n",
    "import xgboost as xgb\n",
    "from sklearn.model_selection import RandomizedSearchCV, GridSearchCV\n",
    "from sklearn.model_selection import train_test_split\n",
    "from sklearn.neighbors import KNeighborsClassifier\n",
    "from sklearn.preprocessing import RobustScaler\n",
    "import seaborn as sns\n",
    "from sklearn.ensemble import VotingClassifier\n",
    "from sklearn.ensemble import AdaBoostClassifier\n",
    "from sklearn.model_selection import cross_val_score\n",
    "import seaborn as sns\n",
    "\n",
    "import warnings\n",
    "warnings.filterwarnings(\"ignore\")"
   ]
  },
  {
   "cell_type": "code",
   "execution_count": 7,
   "metadata": {
    "ExecuteTime": {
     "end_time": "2021-06-15T08:15:16.646237Z",
     "start_time": "2021-06-15T08:15:16.622824Z"
    }
   },
   "outputs": [],
   "source": [
    "import sweetviz as sv"
   ]
  },
  {
   "cell_type": "code",
   "execution_count": 1,
   "metadata": {
    "ExecuteTime": {
     "end_time": "2021-06-15T08:16:28.258857Z",
     "start_time": "2021-06-15T08:16:26.961539Z"
    }
   },
   "outputs": [
    {
     "ename": "ImportError",
     "evalue": "cannot import name '_yields_constant_splits' from 'sklearn.model_selection._split' (C:\\Users\\admin\\anaconda3\\lib\\site-packages\\sklearn\\model_selection\\_split.py)",
     "output_type": "error",
     "traceback": [
      "\u001b[1;31m---------------------------------------------------------------------------\u001b[0m",
      "\u001b[1;31mImportError\u001b[0m                               Traceback (most recent call last)",
      "\u001b[1;32m<ipython-input-1-6b072d28c65f>\u001b[0m in \u001b[0;36m<module>\u001b[1;34m\u001b[0m\n\u001b[1;32m----> 1\u001b[1;33m \u001b[1;32mimport\u001b[0m \u001b[0mdabl\u001b[0m\u001b[1;33m\u001b[0m\u001b[1;33m\u001b[0m\u001b[0m\n\u001b[0m",
      "\u001b[1;32m~\\anaconda3\\lib\\site-packages\\dabl\\__init__.py\u001b[0m in \u001b[0;36m<module>\u001b[1;34m\u001b[0m\n\u001b[0;32m      1\u001b[0m \u001b[1;32mfrom\u001b[0m \u001b[1;33m.\u001b[0m\u001b[0mpreprocessing\u001b[0m \u001b[1;32mimport\u001b[0m \u001b[0mEasyPreprocessor\u001b[0m\u001b[1;33m,\u001b[0m \u001b[0mclean\u001b[0m\u001b[1;33m,\u001b[0m \u001b[0mdetect_types\u001b[0m\u001b[1;33m\u001b[0m\u001b[1;33m\u001b[0m\u001b[0m\n\u001b[1;32m----> 2\u001b[1;33m \u001b[1;32mfrom\u001b[0m \u001b[1;33m.\u001b[0m\u001b[0mmodels\u001b[0m \u001b[1;32mimport\u001b[0m \u001b[0mSimpleClassifier\u001b[0m\u001b[1;33m,\u001b[0m \u001b[0mSimpleRegressor\u001b[0m\u001b[1;33m,\u001b[0m \u001b[0mAnyClassifier\u001b[0m\u001b[1;33m\u001b[0m\u001b[1;33m\u001b[0m\u001b[0m\n\u001b[0m\u001b[0;32m      3\u001b[0m \u001b[1;32mfrom\u001b[0m \u001b[1;33m.\u001b[0m\u001b[0mplot\u001b[0m\u001b[1;33m.\u001b[0m\u001b[0msupervised\u001b[0m \u001b[1;32mimport\u001b[0m \u001b[0mplot\u001b[0m\u001b[1;33m\u001b[0m\u001b[1;33m\u001b[0m\u001b[0m\n\u001b[0;32m      4\u001b[0m \u001b[1;32mfrom\u001b[0m \u001b[1;33m.\u001b[0m\u001b[0mexplain\u001b[0m \u001b[1;32mimport\u001b[0m \u001b[0mexplain\u001b[0m\u001b[1;33m\u001b[0m\u001b[1;33m\u001b[0m\u001b[0m\n\u001b[0;32m      5\u001b[0m \u001b[1;32mfrom\u001b[0m \u001b[1;33m.\u001b[0m \u001b[1;32mimport\u001b[0m \u001b[0mdatasets\u001b[0m\u001b[1;33m\u001b[0m\u001b[1;33m\u001b[0m\u001b[0m\n",
      "\u001b[1;32m~\\anaconda3\\lib\\site-packages\\dabl\\models.py\u001b[0m in \u001b[0;36m<module>\u001b[1;34m\u001b[0m\n\u001b[0;32m     25\u001b[0m \u001b[1;33m\u001b[0m\u001b[0m\n\u001b[0;32m     26\u001b[0m \u001b[1;32mfrom\u001b[0m \u001b[0msklearn\u001b[0m\u001b[1;33m.\u001b[0m\u001b[0mdummy\u001b[0m \u001b[1;32mimport\u001b[0m \u001b[0mDummyClassifier\u001b[0m\u001b[1;33m\u001b[0m\u001b[1;33m\u001b[0m\u001b[0m\n\u001b[1;32m---> 27\u001b[1;33m \u001b[1;32mfrom\u001b[0m \u001b[0msklearn\u001b[0m\u001b[1;33m.\u001b[0m\u001b[0mexperimental\u001b[0m \u001b[1;32mimport\u001b[0m \u001b[0menable_halving_search_cv\u001b[0m \u001b[1;31m# noqa\u001b[0m\u001b[1;33m\u001b[0m\u001b[1;33m\u001b[0m\u001b[0m\n\u001b[0m\u001b[0;32m     28\u001b[0m \u001b[1;32mfrom\u001b[0m \u001b[0msklearn\u001b[0m\u001b[1;33m.\u001b[0m\u001b[0mmodel_selection\u001b[0m \u001b[1;32mimport\u001b[0m \u001b[0mHalvingGridSearchCV\u001b[0m\u001b[1;33m\u001b[0m\u001b[1;33m\u001b[0m\u001b[0m\n\u001b[0;32m     29\u001b[0m \u001b[1;33m\u001b[0m\u001b[0m\n",
      "\u001b[1;32m~\\anaconda3\\lib\\site-packages\\sklearn\\experimental\\enable_halving_search_cv.py\u001b[0m in \u001b[0;36m<module>\u001b[1;34m\u001b[0m\n\u001b[0;32m     20\u001b[0m \"\"\"\n\u001b[0;32m     21\u001b[0m \u001b[1;33m\u001b[0m\u001b[0m\n\u001b[1;32m---> 22\u001b[1;33m from ..model_selection._search_successive_halving import (\n\u001b[0m\u001b[0;32m     23\u001b[0m     \u001b[0mHalvingRandomSearchCV\u001b[0m\u001b[1;33m,\u001b[0m\u001b[1;33m\u001b[0m\u001b[1;33m\u001b[0m\u001b[0m\n\u001b[0;32m     24\u001b[0m     \u001b[0mHalvingGridSearchCV\u001b[0m\u001b[1;33m\u001b[0m\u001b[1;33m\u001b[0m\u001b[0m\n",
      "\u001b[1;32m~\\anaconda3\\lib\\site-packages\\sklearn\\model_selection\\_search_successive_halving.py\u001b[0m in \u001b[0;36m<module>\u001b[1;34m\u001b[0m\n\u001b[0;32m      9\u001b[0m \u001b[1;32mfrom\u001b[0m \u001b[1;33m.\u001b[0m\u001b[1;33m.\u001b[0m\u001b[0mutils\u001b[0m\u001b[1;33m.\u001b[0m\u001b[0mvalidation\u001b[0m \u001b[1;32mimport\u001b[0m \u001b[0m_num_samples\u001b[0m\u001b[1;33m\u001b[0m\u001b[1;33m\u001b[0m\u001b[0m\n\u001b[0;32m     10\u001b[0m \u001b[1;32mfrom\u001b[0m \u001b[1;33m.\u001b[0m\u001b[1;33m.\u001b[0m\u001b[0mbase\u001b[0m \u001b[1;32mimport\u001b[0m \u001b[0mis_classifier\u001b[0m\u001b[1;33m\u001b[0m\u001b[1;33m\u001b[0m\u001b[0m\n\u001b[1;32m---> 11\u001b[1;33m \u001b[1;32mfrom\u001b[0m \u001b[1;33m.\u001b[0m\u001b[0m_split\u001b[0m \u001b[1;32mimport\u001b[0m \u001b[0mcheck_cv\u001b[0m\u001b[1;33m,\u001b[0m \u001b[0m_yields_constant_splits\u001b[0m\u001b[1;33m\u001b[0m\u001b[1;33m\u001b[0m\u001b[0m\n\u001b[0m\u001b[0;32m     12\u001b[0m \u001b[1;32mfrom\u001b[0m \u001b[1;33m.\u001b[0m\u001b[1;33m.\u001b[0m\u001b[0mutils\u001b[0m \u001b[1;32mimport\u001b[0m \u001b[0mresample\u001b[0m\u001b[1;33m\u001b[0m\u001b[1;33m\u001b[0m\u001b[0m\n\u001b[0;32m     13\u001b[0m \u001b[1;33m\u001b[0m\u001b[0m\n",
      "\u001b[1;31mImportError\u001b[0m: cannot import name '_yields_constant_splits' from 'sklearn.model_selection._split' (C:\\Users\\admin\\anaconda3\\lib\\site-packages\\sklearn\\model_selection\\_split.py)"
     ]
    }
   ],
   "source": [
    "import dabl\n"
   ]
  },
  {
   "cell_type": "code",
   "execution_count": 3,
   "metadata": {
    "ExecuteTime": {
     "end_time": "2021-06-15T08:07:59.250805Z",
     "start_time": "2021-06-15T08:07:59.177469Z"
    }
   },
   "outputs": [],
   "source": [
    "df_train = pd.read_csv('train.csv').set_index('Id')\n",
    "df_test = pd.read_csv('test.csv').set_index('Id')"
   ]
  },
  {
   "cell_type": "code",
   "execution_count": 4,
   "metadata": {
    "ExecuteTime": {
     "end_time": "2021-06-15T08:09:11.018053Z",
     "start_time": "2021-06-15T08:08:47.514716Z"
    }
   },
   "outputs": [
    {
     "data": {
      "application/vnd.jupyter.widget-view+json": {
       "model_id": "dd5f97a088ad48fa964b01ae08f917e8",
       "version_major": 2,
       "version_minor": 0
      },
      "text/plain": [
       "HBox(children=(FloatProgress(value=0.0, layout=Layout(flex='2'), max=81.0), HTML(value='')), layout=Layout(dis…"
      ]
     },
     "metadata": {},
     "output_type": "display_data"
    },
    {
     "name": "stdout",
     "output_type": "stream",
     "text": [
      "\n",
      "Report SWEETVIZ_REPORT.html was generated! NOTEBOOK/COLAB USERS: the web browser MAY not pop up, regardless, the report IS saved in your notebook/colab files.\n"
     ]
    }
   ],
   "source": [
    "report = sv.analyze(df_train)\n",
    "report.show_html()"
   ]
  },
  {
   "cell_type": "code",
   "execution_count": 115,
   "metadata": {
    "ExecuteTime": {
     "end_time": "2021-04-29T11:02:52.724231Z",
     "start_time": "2021-04-29T11:02:52.708122Z"
    },
    "code_folding": [
     0
    ],
    "deletable": false,
    "editable": false,
    "run_control": {
     "frozen": true
    }
   },
   "outputs": [],
   "source": [
    "# \n",
    "df_train.MSZoning = df_train.MSZoning.map({'RL':0, 'RM':1, 'C (all)':2, 'FV':3, 'RH':4})\n",
    "\n",
    "df_train.LotFrontage[df_train.LotFrontage.isna()] = np.sqrt(df_train.LotArea[df_train.LotFrontage.isna()])\n",
    "\n",
    "df_train.Street = df_train.Street.map({'Pave':0, 'Grvl':1})\n",
    "\n",
    "df_train.Alley = df_train.Alley.map({'Pave':2, 'Grvl':1, np.nan:0})\n",
    "\n",
    "df_train.LotShape = df_train.LotShape.map({'Reg':0, 'IR1':1, 'IR2':2, 'IR3':3})\n",
    "\n",
    "df_train.LandContour = df_train.LandContour.map({'Lvl':0, 'Bnk':1, 'Low':2, 'HLS':3})\n",
    "\n",
    "df_train.Utilities = df_train.Utilities.map({'AllPub':0, 'NoSeWa':1})\n",
    "\n",
    "df_train.LotConfig = df_train.LotConfig.map({'Inside':0, 'FR2':1, 'Corner':2, 'CulDSac':3, 'FR3':4})\n",
    "\n",
    "df_train.LandSlope = df_train.LandSlope.map({'Gtl':0, 'Mod':1, 'Sev':2})\n",
    "\n",
    "df_train.Neighborhood = df_train.Neighborhood.map({\n",
    "    'CollgCr':0, 'Veenker':1, 'Crawfor':2, 'NoRidge':3, 'Mitchel':4, 'Somerst':5,\n",
    "       'NWAmes':6, 'OldTown':7, 'BrkSide':8, 'Sawyer':9, 'NridgHt':10, 'NAmes':11,\n",
    "       'SawyerW':12, 'IDOTRR':13, 'MeadowV':14, 'Edwards':15, 'Timber':16, 'Gilbert':17,\n",
    "       'StoneBr':18, 'ClearCr':19, 'NPkVill':20, 'Blmngtn':21, 'BrDale':22, 'SWISU':23,\n",
    "       'Blueste':24})\n",
    "\n",
    "df_train.Condition1 = df_train.Condition1.map({\n",
    "    'Norm':0, 'Feedr':1, 'PosN':2, 'Artery':3, 'RRAe':4, 'RRNn':5,\n",
    "       'RRAn':6, 'PosA':7, 'RRNe':8})\n",
    "\n",
    "df_train.Condition2 = df_train.Condition2.map({\n",
    "    'Norm':0, 'Artery':1, 'RRNn':2, 'Feedr':3, 'PosN':4, 'PosA':5, 'RRAn':6, 'RRAe':7})\n",
    "\n",
    "df_train.BldgType = df_train.BldgType.map({\n",
    "    '1Fam':0, '2fmCon':1, 'Duplex':2, 'TwnhsE':3, 'Twnhs':4})\n",
    "\n",
    "df_train.HouseStyle = df_train.HouseStyle.map({\n",
    "    '2Story':0, '1Story':1, '1.5Fin':2, '1.5Unf':3, 'SFoyer':4, 'SLvl':5, '2.5Unf':6, '2.5Fin':7})\n",
    "\n",
    "df_train.RoofStyle = df_train.RoofStyle.map({'Gable':0, 'Hip':1, 'Gambrel':2, 'Mansard':3, 'Flat':4, 'Shed':5})\n",
    "\n",
    "\n",
    "df_train.RoofMatl = df_train.RoofMatl.map({\n",
    "    'CompShg':0, 'WdShngl':1, 'Metal':2, 'WdShake':3, 'Membran':4, 'Tar&Grv':5, 'Roll':6, 'ClyTile':7})"
   ]
  },
  {
   "cell_type": "code",
   "execution_count": 196,
   "metadata": {
    "ExecuteTime": {
     "end_time": "2021-04-30T07:28:47.329993Z",
     "start_time": "2021-04-30T07:28:47.294794Z"
    }
   },
   "outputs": [],
   "source": [
    "def make_df(df):\n",
    "    df.LotFrontage[df.LotFrontage.isna()] = np.sqrt(df.LotArea[df.LotFrontage.isna()])\n",
    "\n",
    "    df.GarageYrBlt.fillna(0, inplace=True)\n",
    "    df['GarageYrBlt_grouped'] = np.digitize(df.GarageYrBlt, [-1, 1899] + list(np.arange(1910, 2011, 10)), right=True)\n",
    "\n",
    "    df.Alley.fillna('None', inplace=True)\n",
    "    \n",
    "    df.MSZoning.fillna('RL', inplace=True)\n",
    "    df.Utilities.fillna('AllPub', inplace=True)\n",
    "    df.Exterior1st.fillna('VinylSd', inplace=True)\n",
    "    df.Exterior2nd.fillna('VinylSd', inplace=True)\n",
    "    df.BsmtFinSF1.fillna(0, inplace=True)\n",
    "    df.BsmtFinSF2.fillna(0, inplace=True)\n",
    "    df.TotalBsmtSF.fillna(0, inplace=True)\n",
    "    df.BsmtFullBath.fillna(0, inplace=True)\n",
    "    df.BsmtHalfBath.fillna(0, inplace=True)\n",
    "    df.SaleType.fillna('WD', inplace=True)\n",
    "    df.Functional.fillna('Typ', inplace=True)\n",
    "    df.KitchenQual.fillna('TA', inplace=True)\n",
    "    df.GarageCars.fillna(2, inplace=True)\n",
    "    df.GarageArea.fillna(519.042857, inplace=True)\n",
    "    df.BsmtUnfSF.fillna(0, inplace=True)\n",
    "    \n",
    "        \n",
    "    df.MasVnrType.fillna('None', inplace=True)\n",
    "    df.BsmtQual.fillna('None', inplace=True)\n",
    "    df.BsmtCond.fillna('None', inplace=True)\n",
    "    df.BsmtExposure.fillna('None', inplace=True)\n",
    "    df.BsmtFinType1.fillna('None', inplace=True)\n",
    "    df.Electrical.fillna('SBrkr', inplace=True)\n",
    "    df.BsmtFinType2.fillna('None', inplace=True)\n",
    "    df.FireplaceQu.fillna('None', inplace=True)\n",
    "    df.GarageType.fillna('None', inplace=True)\n",
    "    df.GarageFinish.fillna('None', inplace=True)\n",
    "    df.GarageQual.fillna('None', inplace=True)\n",
    "    df.GarageCond.fillna('None', inplace=True)\n",
    "    df.PoolQC.fillna('None', inplace=True)\n",
    "    df.Fence.fillna('None', inplace=True)\n",
    "    df.MiscFeature.fillna('None', inplace=True)\n",
    "#     df.GarageYrBlt\n",
    "\n",
    "\n",
    "    df.MasVnrArea[((df.MasVnrArea.isna()) & (df['OverallQual'] == 6))] = 103.354839\n",
    "    df.MasVnrArea[((df.MasVnrArea.isna()) & (df['OverallQual'] == 7))] = 105.707937\n",
    "    df.MasVnrArea[((df.MasVnrArea.isna()) & (df['OverallQual'] == 8))] = 211.538922\n",
    "    df.MasVnrArea[((df.MasVnrArea.isna()) & (df['OverallQual'] == 10))] = 539.235294\n",
    "    \n",
    "    return df"
   ]
  },
  {
   "cell_type": "code",
   "execution_count": 264,
   "metadata": {
    "ExecuteTime": {
     "end_time": "2021-04-30T09:12:08.511768Z",
     "start_time": "2021-04-30T09:12:08.427171Z"
    }
   },
   "outputs": [],
   "source": [
    "df_train = pd.read_csv('train.csv').set_index('Id')\n",
    "df_test = pd.read_csv('test.csv').set_index('Id')\n",
    "\n",
    "df_train = make_df(df_train)\n",
    "df_test = make_df(df_test)"
   ]
  },
  {
   "cell_type": "code",
   "execution_count": 265,
   "metadata": {
    "ExecuteTime": {
     "end_time": "2021-04-30T09:12:09.513659Z",
     "start_time": "2021-04-30T09:12:08.890431Z"
    }
   },
   "outputs": [],
   "source": [
    "for col in df_train.select_dtypes('object').columns:\n",
    "    original_train = df_train[col].unique()\n",
    "    original_test = df_test[col].unique()\n",
    "\n",
    "    original = list(set(original_train) | set(original_test))\n",
    "\n",
    "    df_train.replace(original, np.arange(len(original)), inplace=True)\n",
    "    df_test.replace(original, np.arange(len(original)), inplace=True)"
   ]
  },
  {
   "cell_type": "code",
   "execution_count": 266,
   "metadata": {
    "ExecuteTime": {
     "end_time": "2021-04-30T09:12:09.554072Z",
     "start_time": "2021-04-30T09:12:09.513659Z"
    },
    "scrolled": true
   },
   "outputs": [
    {
     "data": {
      "text/plain": [
       "['LotFrontage',\n",
       " 'LotArea',\n",
       " 'LotShape',\n",
       " 'Neighborhood',\n",
       " 'YearBuilt',\n",
       " 'YearRemodAdd',\n",
       " 'MasVnrType',\n",
       " 'MasVnrArea',\n",
       " 'ExterQual',\n",
       " 'Foundation',\n",
       " 'BsmtExposure',\n",
       " 'BsmtFinType1',\n",
       " 'BsmtFinSF1',\n",
       " 'BsmtUnfSF',\n",
       " 'TotalBsmtSF',\n",
       " 'CentralAir',\n",
       " '1stFlrSF',\n",
       " '2ndFlrSF',\n",
       " 'GrLivArea',\n",
       " 'BsmtFullBath',\n",
       " 'FullBath',\n",
       " 'HalfBath',\n",
       " 'BedroomAbvGr',\n",
       " 'KitchenQual',\n",
       " 'Fireplaces',\n",
       " 'GarageType',\n",
       " 'GarageYrBlt',\n",
       " 'GarageFinish',\n",
       " 'GarageArea',\n",
       " 'PavedDrive',\n",
       " 'WoodDeckSF',\n",
       " 'OpenPorchSF',\n",
       " 'SaleType',\n",
       " 'SalePrice',\n",
       " 'GarageYrBlt_grouped']"
      ]
     },
     "execution_count": 266,
     "metadata": {},
     "output_type": "execute_result"
    }
   ],
   "source": [
    "columns_to_drop = []\n",
    "for col in df_train.columns:\n",
    "    if abs(np.corrcoef(df_train.SalePrice, df_train[col])[0][1]) > 0.2:\n",
    "        columns_to_drop.append(col)\n",
    "columns_to_drop"
   ]
  },
  {
   "cell_type": "code",
   "execution_count": 273,
   "metadata": {
    "ExecuteTime": {
     "end_time": "2021-04-30T09:28:33.480375Z",
     "start_time": "2021-04-30T09:28:33.444533Z"
    }
   },
   "outputs": [],
   "source": [
    "X_train = df_train.drop(['SalePrice', 'GarageYrBlt'], axis=1)\n",
    "y_train = df_train.SalePrice\n",
    "\n",
    "X_test = df_test.drop(['GarageYrBlt'], axis=1)\n",
    "\n",
    "X_train1, X_validation, y_train1, y_validation = train_test_split(\n",
    "    X_train, y_train, test_size=0.33, random_state=0)"
   ]
  },
  {
   "cell_type": "code",
   "execution_count": 270,
   "metadata": {
    "ExecuteTime": {
     "end_time": "2021-04-30T09:12:35.745503Z",
     "start_time": "2021-04-30T09:12:32.597596Z"
    }
   },
   "outputs": [
    {
     "data": {
      "text/plain": [
       "(0.5786284628856594, 0.8560715417799044)"
      ]
     },
     "execution_count": 270,
     "metadata": {},
     "output_type": "execute_result"
    }
   ],
   "source": [
    "clf = RandomForestRegressor(random_state=None, n_estimators=1000, max_depth=10)\n",
    "clf.fit(X_train1, y_train1)\n",
    "clf.predict(X_validation)\n",
    "clf.score(X_validation, y_validation), clf.score(X_train1, y_train1)"
   ]
  },
  {
   "cell_type": "code",
   "execution_count": 229,
   "metadata": {
    "ExecuteTime": {
     "end_time": "2021-04-30T08:53:36.832416Z",
     "start_time": "2021-04-30T08:51:30.546021Z"
    }
   },
   "outputs": [
    {
     "name": "stdout",
     "output_type": "stream",
     "text": [
      "Fitting 5 folds for each of 60 candidates, totalling 300 fits\n"
     ]
    },
    {
     "name": "stderr",
     "output_type": "stream",
     "text": [
      "[Parallel(n_jobs=-1)]: Using backend LokyBackend with 12 concurrent workers.\n",
      "[Parallel(n_jobs=-1)]: Done  26 tasks      | elapsed:    9.5s\n",
      "[Parallel(n_jobs=-1)]: Done 176 tasks      | elapsed:   59.0s\n",
      "[Parallel(n_jobs=-1)]: Done 300 out of 300 | elapsed:  2.0min finished\n"
     ]
    },
    {
     "name": "stdout",
     "output_type": "stream",
     "text": [
      "0.8407558043604068\n",
      "RandomForestRegressor(max_depth=10, n_estimators=1000)\n"
     ]
    }
   ],
   "source": [
    "n_estimators=list(range(1100,1301,100))\n",
    "max_depth = list(range(11,15,1))\n",
    "hyper={'n_estimators':n_estimators,'max_depth':max_depth}\n",
    "\n",
    "gd=GridSearchCV(estimator=RandomForestRegressor(),param_grid=hyper,verbose=True,n_jobs=-1)\n",
    "\n",
    "gd.fit(X_train1,y_train1)\n",
    "\n",
    "print(gd.best_score_)\n",
    "print(gd.best_estimator_)"
   ]
  },
  {
   "cell_type": "code",
   "execution_count": 314,
   "metadata": {
    "ExecuteTime": {
     "end_time": "2021-04-30T10:01:03.365018Z",
     "start_time": "2021-04-30T10:01:00.163084Z"
    }
   },
   "outputs": [
    {
     "name": "stdout",
     "output_type": "stream",
     "text": [
      "0.002074688796680498 0.0950920245398773\n",
      "-0.03936738839325371 -0.048983056981230844\n"
     ]
    }
   ],
   "source": [
    "from sklearn.svm import SVR\n",
    "from sklearn.pipeline import make_pipeline\n",
    "from sklearn.preprocessing import StandardScaler\n",
    "from sklearn.neighbors import (KNeighborsClassifier,\n",
    "                               NeighborhoodComponentsAnalysis)\n",
    "from sklearn.decomposition import PCA\n",
    "\n",
    "knn = KNeighborsClassifier(n_neighbors=10)\n",
    "svr = SVR(C=1.0, epsilon=0.5)\n",
    "\n",
    "nca = make_pipeline(StandardScaler(),\n",
    "                    NeighborhoodComponentsAnalysis(n_components=10, random_state=42))\n",
    "nca.fit(X_train1, y_train1)\n",
    "\n",
    "pca = make_pipeline(StandardScaler(),\n",
    "                    PCA(n_components=10, random_state=42))\n",
    "pca.fit(X_train1, y_train1)\n",
    "\n",
    "# knn.fit(nca.transform(X_train1), y_train1)\n",
    "# svr.fit(nca.transform(X_train1), y_train1)\n",
    "\n",
    "\n",
    "knn.fit(pca.transform(X_train1), y_train1)\n",
    "svr.fit(pca.transform(X_train1), y_train1)\n",
    "\n",
    "# print(knn.score(nca.transform(X_validation), y_validation), knn.score(nca.transform(X_train1), y_train1))\n",
    "# print(svr.score(nca.transform(X_validation), y_validation), svr.score(nca.transform(X_train1), y_train1))\n",
    "\n",
    "print(knn.score(pca.transform(X_validation), y_validation), knn.score(pca.transform(X_train1), y_train1))\n",
    "print(svr.score(pca.transform(X_validation), y_validation), svr.score(pca.transform(X_train1), y_train1))\n",
    "\n",
    "\n",
    "# algorithm{‘auto’, ‘ball_tree’, ‘kd_tree’, ‘brute’}\n",
    "# clf = SVR(kernel='poly')\n",
    "# clf.fit(X_train1, y_train1)\n",
    "# clf.predict(X_validation)\n",
    "# clf.score(X_validation, y_validation), clf.score(X_train1, y_train1)\n",
    "\n",
    "\n",
    "# regr = make_pipeline(StandardScaler(), SVR(C=1.0, epsilon=0.5))\n",
    "# regr.fit(X_train1, y_train1)\n",
    "# regr.score(X_validation, y_validation), regr.score(X_train1, y_train1)"
   ]
  },
  {
   "cell_type": "code",
   "execution_count": 292,
   "metadata": {
    "ExecuteTime": {
     "end_time": "2021-04-30T09:31:53.011789Z",
     "start_time": "2021-04-30T09:31:52.996192Z"
    }
   },
   "outputs": [
    {
     "data": {
      "text/plain": [
       "['braycurtis',\n",
       " 'canberra',\n",
       " 'chebyshev',\n",
       " 'cityblock',\n",
       " 'correlation',\n",
       " 'cosine',\n",
       " 'cosine',\n",
       " 'dice',\n",
       " 'euclidean',\n",
       " 'hamming',\n",
       " 'haversine',\n",
       " 'jaccard',\n",
       " 'kulsinski',\n",
       " 'l1',\n",
       " 'l2',\n",
       " 'mahalanobis',\n",
       " 'manhattan',\n",
       " 'matching',\n",
       " 'minkowski',\n",
       " 'nan_euclidean',\n",
       " 'precomputed',\n",
       " 'rogerstanimoto',\n",
       " 'russellrao',\n",
       " 'seuclidean',\n",
       " 'sokalmichener',\n",
       " 'sokalsneath',\n",
       " 'sqeuclidean',\n",
       " 'wminkowski',\n",
       " 'yule']"
      ]
     },
     "execution_count": 292,
     "metadata": {},
     "output_type": "execute_result"
    }
   ],
   "source": [
    "import sklearn\n",
    "sorted(sklearn.neighbors.VALID_METRICS['brute'])"
   ]
  },
  {
   "cell_type": "code",
   "execution_count": 271,
   "metadata": {
    "ExecuteTime": {
     "end_time": "2021-04-30T09:12:43.078376Z",
     "start_time": "2021-04-30T09:12:42.941487Z"
    }
   },
   "outputs": [
    {
     "data": {
      "text/plain": [
       "(0.5947616048054696, 0.9612831190147877)"
      ]
     },
     "execution_count": 271,
     "metadata": {},
     "output_type": "execute_result"
    }
   ],
   "source": [
    "clf = xgb.XGBRegressor()\n",
    "clf.fit(X_train1, y_train1,\n",
    "        eval_set=[(X_train1, y_train1), (X_validation, y_validation)], eval_metric='rmsle', verbose=False)\n",
    "clf.score(X_validation, y_validation), clf.score(X_train1, y_train1)"
   ]
  },
  {
   "cell_type": "code",
   "execution_count": 215,
   "metadata": {
    "ExecuteTime": {
     "end_time": "2021-04-30T07:38:18.984391Z",
     "start_time": "2021-04-30T07:38:18.954675Z"
    }
   },
   "outputs": [
    {
     "data": {
      "text/plain": [
       "81"
      ]
     },
     "execution_count": 215,
     "metadata": {},
     "output_type": "execute_result"
    }
   ],
   "source": [
    "len(df_train.columns)"
   ]
  },
  {
   "cell_type": "code",
   "execution_count": 259,
   "metadata": {
    "ExecuteTime": {
     "end_time": "2021-04-30T09:08:45.917978Z",
     "start_time": "2021-04-30T09:05:56.240611Z"
    }
   },
   "outputs": [
    {
     "name": "stdout",
     "output_type": "stream",
     "text": [
      "Fitting 5 folds for each of 90 candidates, totalling 450 fits\n"
     ]
    },
    {
     "name": "stderr",
     "output_type": "stream",
     "text": [
      "[Parallel(n_jobs=-1)]: Using backend LokyBackend with 12 concurrent workers.\n",
      "[Parallel(n_jobs=-1)]: Done  26 tasks      | elapsed:    8.7s\n",
      "[Parallel(n_jobs=-1)]: Done 176 tasks      | elapsed:  1.0min\n",
      "[Parallel(n_jobs=-1)]: Done 426 tasks      | elapsed:  2.6min\n",
      "[Parallel(n_jobs=-1)]: Done 450 out of 450 | elapsed:  2.8min finished\n"
     ]
    },
    {
     "name": "stdout",
     "output_type": "stream",
     "text": [
      "0.8469228752503056\n",
      "XGBRegressor(base_score=0.5, booster='gbtree', colsample_bylevel=1,\n",
      "             colsample_bynode=1, colsample_bytree=1, gamma=0, gpu_id=-1,\n",
      "             importance_type='gain', interaction_constraints='',\n",
      "             learning_rate=0.05, max_delta_step=0, max_depth=10,\n",
      "             min_child_weight=1, missing=nan, monotone_constraints='()',\n",
      "             n_estimators=500, n_jobs=12, num_parallel_tree=1, random_state=0,\n",
      "             reg_alpha=0, reg_lambda=1, scale_pos_weight=1, subsample=1,\n",
      "             tree_method='exact', validate_parameters=1, verbosity=None)\n"
     ]
    }
   ],
   "source": [
    "n_estimators=list(range(100,1001,200))\n",
    "learn_rate=[0.01, 0.05, 0.1]\n",
    "max_depth = list(range(5,11,1))\n",
    "hyper={'n_estimators':n_estimators,'learning_rate':learn_rate, 'max_depth':max_depth}\n",
    "\n",
    "gd=GridSearchCV(estimator=xgb.XGBRegressor(),param_grid=hyper,verbose=True,n_jobs=-1)\n",
    "\n",
    "gd.fit(X_train1,y_train1,\n",
    "      eval_set=[(X_train1, y_train1), (X_validation, y_validation)], eval_metric='rmsle', verbose=False)\n",
    "\n",
    "print(gd.best_score_)\n",
    "print(gd.best_estimator_)"
   ]
  },
  {
   "cell_type": "code",
   "execution_count": null,
   "metadata": {
    "ExecuteTime": {
     "end_time": "2021-04-30T09:02:29.704992Z",
     "start_time": "2021-04-30T09:02:27.389Z"
    }
   },
   "outputs": [],
   "source": [
    "gd.best_estimator_.fit(X_train1, y_train1)"
   ]
  },
  {
   "cell_type": "code",
   "execution_count": 205,
   "metadata": {
    "ExecuteTime": {
     "end_time": "2021-04-30T07:30:31.320021Z",
     "start_time": "2021-04-30T07:30:31.204183Z"
    }
   },
   "outputs": [
    {
     "data": {
      "text/plain": [
       "[<matplotlib.lines.Line2D at 0x1d659693b20>]"
      ]
     },
     "execution_count": 205,
     "metadata": {},
     "output_type": "execute_result"
    },
    {
     "data": {
      "image/png": "[encoded data removed]",
      "text/plain": [
       "<Figure size 432x288 with 1 Axes>"
      ]
     },
     "metadata": {
      "needs_background": "light"
     },
     "output_type": "display_data"
    }
   ],
   "source": [
    "plt.plot(clf.evals_result_['validation_0']['rmsle'])\n",
    "plt.plot(clf.evals_result_['validation_1']['rmsle'])"
   ]
  },
  {
   "cell_type": "code",
   "execution_count": 208,
   "metadata": {
    "ExecuteTime": {
     "end_time": "2021-04-30T07:31:41.063559Z",
     "start_time": "2021-04-30T07:31:41.029221Z"
    }
   },
   "outputs": [
    {
     "data": {
      "text/html": [
       "<div>\n",
       "<style scoped>\n",
       "    .dataframe tbody tr th:only-of-type {\n",
       "        vertical-align: middle;\n",
       "    }\n",
       "\n",
       "    .dataframe tbody tr th {\n",
       "        vertical-align: top;\n",
       "    }\n",
       "\n",
       "    .dataframe thead th {\n",
       "        text-align: right;\n",
       "    }\n",
       "</style>\n",
       "<table border=\"1\" class=\"dataframe\">\n",
       "  <thead>\n",
       "    <tr style=\"text-align: right;\">\n",
       "      <th></th>\n",
       "      <th>MSSubClass</th>\n",
       "      <th>MSZoning</th>\n",
       "      <th>LotFrontage</th>\n",
       "      <th>LotArea</th>\n",
       "      <th>Street</th>\n",
       "      <th>Alley</th>\n",
       "      <th>LotShape</th>\n",
       "      <th>LandContour</th>\n",
       "      <th>Utilities</th>\n",
       "      <th>LotConfig</th>\n",
       "      <th>...</th>\n",
       "      <th>PoolArea</th>\n",
       "      <th>PoolQC</th>\n",
       "      <th>Fence</th>\n",
       "      <th>MiscFeature</th>\n",
       "      <th>MiscVal</th>\n",
       "      <th>MoSold</th>\n",
       "      <th>YrSold</th>\n",
       "      <th>SaleType</th>\n",
       "      <th>SaleCondition</th>\n",
       "      <th>GarageYrBlt_grouped</th>\n",
       "    </tr>\n",
       "    <tr>\n",
       "      <th>Id</th>\n",
       "      <th></th>\n",
       "      <th></th>\n",
       "      <th></th>\n",
       "      <th></th>\n",
       "      <th></th>\n",
       "      <th></th>\n",
       "      <th></th>\n",
       "      <th></th>\n",
       "      <th></th>\n",
       "      <th></th>\n",
       "      <th></th>\n",
       "      <th></th>\n",
       "      <th></th>\n",
       "      <th></th>\n",
       "      <th></th>\n",
       "      <th></th>\n",
       "      <th></th>\n",
       "      <th></th>\n",
       "      <th></th>\n",
       "      <th></th>\n",
       "      <th></th>\n",
       "    </tr>\n",
       "  </thead>\n",
       "  <tbody>\n",
       "    <tr>\n",
       "      <th>1461</th>\n",
       "      <td>20</td>\n",
       "      <td>0</td>\n",
       "      <td>80.0</td>\n",
       "      <td>11622</td>\n",
       "      <td>1</td>\n",
       "      <td>0</td>\n",
       "      <td>0</td>\n",
       "      <td>0</td>\n",
       "      <td>1</td>\n",
       "      <td>0</td>\n",
       "      <td>...</td>\n",
       "      <td>0</td>\n",
       "      <td>0</td>\n",
       "      <td>1</td>\n",
       "      <td>0</td>\n",
       "      <td>0</td>\n",
       "      <td>6</td>\n",
       "      <td>2010</td>\n",
       "      <td>5</td>\n",
       "      <td>4</td>\n",
       "      <td>1</td>\n",
       "    </tr>\n",
       "    <tr>\n",
       "      <th>1462</th>\n",
       "      <td>20</td>\n",
       "      <td>1</td>\n",
       "      <td>81.0</td>\n",
       "      <td>14267</td>\n",
       "      <td>1</td>\n",
       "      <td>0</td>\n",
       "      <td>1</td>\n",
       "      <td>0</td>\n",
       "      <td>1</td>\n",
       "      <td>3</td>\n",
       "      <td>...</td>\n",
       "      <td>0</td>\n",
       "      <td>0</td>\n",
       "      <td>0</td>\n",
       "      <td>2</td>\n",
       "      <td>12500</td>\n",
       "      <td>6</td>\n",
       "      <td>2010</td>\n",
       "      <td>5</td>\n",
       "      <td>4</td>\n",
       "      <td>1</td>\n",
       "    </tr>\n",
       "    <tr>\n",
       "      <th>1463</th>\n",
       "      <td>60</td>\n",
       "      <td>1</td>\n",
       "      <td>74.0</td>\n",
       "      <td>13830</td>\n",
       "      <td>1</td>\n",
       "      <td>0</td>\n",
       "      <td>1</td>\n",
       "      <td>0</td>\n",
       "      <td>1</td>\n",
       "      <td>0</td>\n",
       "      <td>...</td>\n",
       "      <td>0</td>\n",
       "      <td>0</td>\n",
       "      <td>1</td>\n",
       "      <td>0</td>\n",
       "      <td>0</td>\n",
       "      <td>1</td>\n",
       "      <td>2010</td>\n",
       "      <td>5</td>\n",
       "      <td>4</td>\n",
       "      <td>11</td>\n",
       "    </tr>\n",
       "    <tr>\n",
       "      <th>1464</th>\n",
       "      <td>60</td>\n",
       "      <td>1</td>\n",
       "      <td>78.0</td>\n",
       "      <td>9978</td>\n",
       "      <td>1</td>\n",
       "      <td>0</td>\n",
       "      <td>1</td>\n",
       "      <td>0</td>\n",
       "      <td>1</td>\n",
       "      <td>0</td>\n",
       "      <td>...</td>\n",
       "      <td>0</td>\n",
       "      <td>0</td>\n",
       "      <td>0</td>\n",
       "      <td>0</td>\n",
       "      <td>0</td>\n",
       "      <td>6</td>\n",
       "      <td>2010</td>\n",
       "      <td>5</td>\n",
       "      <td>4</td>\n",
       "      <td>11</td>\n",
       "    </tr>\n",
       "    <tr>\n",
       "      <th>1465</th>\n",
       "      <td>120</td>\n",
       "      <td>1</td>\n",
       "      <td>43.0</td>\n",
       "      <td>5005</td>\n",
       "      <td>1</td>\n",
       "      <td>0</td>\n",
       "      <td>1</td>\n",
       "      <td>1</td>\n",
       "      <td>1</td>\n",
       "      <td>0</td>\n",
       "      <td>...</td>\n",
       "      <td>0</td>\n",
       "      <td>0</td>\n",
       "      <td>0</td>\n",
       "      <td>0</td>\n",
       "      <td>0</td>\n",
       "      <td>1</td>\n",
       "      <td>2010</td>\n",
       "      <td>5</td>\n",
       "      <td>4</td>\n",
       "      <td>11</td>\n",
       "    </tr>\n",
       "    <tr>\n",
       "      <th>...</th>\n",
       "      <td>...</td>\n",
       "      <td>...</td>\n",
       "      <td>...</td>\n",
       "      <td>...</td>\n",
       "      <td>...</td>\n",
       "      <td>...</td>\n",
       "      <td>...</td>\n",
       "      <td>...</td>\n",
       "      <td>...</td>\n",
       "      <td>...</td>\n",
       "      <td>...</td>\n",
       "      <td>...</td>\n",
       "      <td>...</td>\n",
       "      <td>...</td>\n",
       "      <td>...</td>\n",
       "      <td>...</td>\n",
       "      <td>...</td>\n",
       "      <td>...</td>\n",
       "      <td>...</td>\n",
       "      <td>...</td>\n",
       "      <td>...</td>\n",
       "    </tr>\n",
       "    <tr>\n",
       "      <th>2915</th>\n",
       "      <td>160</td>\n",
       "      <td>1</td>\n",
       "      <td>21.0</td>\n",
       "      <td>1936</td>\n",
       "      <td>1</td>\n",
       "      <td>0</td>\n",
       "      <td>0</td>\n",
       "      <td>0</td>\n",
       "      <td>1</td>\n",
       "      <td>0</td>\n",
       "      <td>...</td>\n",
       "      <td>0</td>\n",
       "      <td>0</td>\n",
       "      <td>0</td>\n",
       "      <td>0</td>\n",
       "      <td>0</td>\n",
       "      <td>6</td>\n",
       "      <td>2006</td>\n",
       "      <td>5</td>\n",
       "      <td>4</td>\n",
       "      <td>1</td>\n",
       "    </tr>\n",
       "    <tr>\n",
       "      <th>2916</th>\n",
       "      <td>160</td>\n",
       "      <td>1</td>\n",
       "      <td>21.0</td>\n",
       "      <td>1894</td>\n",
       "      <td>1</td>\n",
       "      <td>0</td>\n",
       "      <td>0</td>\n",
       "      <td>0</td>\n",
       "      <td>1</td>\n",
       "      <td>0</td>\n",
       "      <td>...</td>\n",
       "      <td>0</td>\n",
       "      <td>0</td>\n",
       "      <td>0</td>\n",
       "      <td>0</td>\n",
       "      <td>0</td>\n",
       "      <td>3</td>\n",
       "      <td>2006</td>\n",
       "      <td>5</td>\n",
       "      <td>2</td>\n",
       "      <td>1</td>\n",
       "    </tr>\n",
       "    <tr>\n",
       "      <th>2917</th>\n",
       "      <td>20</td>\n",
       "      <td>1</td>\n",
       "      <td>160.0</td>\n",
       "      <td>20000</td>\n",
       "      <td>1</td>\n",
       "      <td>0</td>\n",
       "      <td>0</td>\n",
       "      <td>0</td>\n",
       "      <td>1</td>\n",
       "      <td>0</td>\n",
       "      <td>...</td>\n",
       "      <td>0</td>\n",
       "      <td>0</td>\n",
       "      <td>0</td>\n",
       "      <td>0</td>\n",
       "      <td>0</td>\n",
       "      <td>9</td>\n",
       "      <td>2006</td>\n",
       "      <td>5</td>\n",
       "      <td>2</td>\n",
       "      <td>1</td>\n",
       "    </tr>\n",
       "    <tr>\n",
       "      <th>2918</th>\n",
       "      <td>85</td>\n",
       "      <td>1</td>\n",
       "      <td>62.0</td>\n",
       "      <td>10441</td>\n",
       "      <td>1</td>\n",
       "      <td>0</td>\n",
       "      <td>0</td>\n",
       "      <td>0</td>\n",
       "      <td>1</td>\n",
       "      <td>0</td>\n",
       "      <td>...</td>\n",
       "      <td>0</td>\n",
       "      <td>0</td>\n",
       "      <td>1</td>\n",
       "      <td>1</td>\n",
       "      <td>700</td>\n",
       "      <td>1</td>\n",
       "      <td>2006</td>\n",
       "      <td>5</td>\n",
       "      <td>4</td>\n",
       "      <td>1</td>\n",
       "    </tr>\n",
       "    <tr>\n",
       "      <th>2919</th>\n",
       "      <td>60</td>\n",
       "      <td>1</td>\n",
       "      <td>74.0</td>\n",
       "      <td>9627</td>\n",
       "      <td>1</td>\n",
       "      <td>0</td>\n",
       "      <td>0</td>\n",
       "      <td>0</td>\n",
       "      <td>1</td>\n",
       "      <td>0</td>\n",
       "      <td>...</td>\n",
       "      <td>0</td>\n",
       "      <td>0</td>\n",
       "      <td>0</td>\n",
       "      <td>0</td>\n",
       "      <td>0</td>\n",
       "      <td>11</td>\n",
       "      <td>2006</td>\n",
       "      <td>5</td>\n",
       "      <td>4</td>\n",
       "      <td>11</td>\n",
       "    </tr>\n",
       "  </tbody>\n",
       "</table>\n",
       "<p>1459 rows × 79 columns</p>\n",
       "</div>"
      ],
      "text/plain": [
       "      MSSubClass  MSZoning  LotFrontage  LotArea  Street  Alley  LotShape  \\\n",
       "Id                                                                          \n",
       "1461          20         0         80.0    11622       1      0         0   \n",
       "1462          20         1         81.0    14267       1      0         1   \n",
       "1463          60         1         74.0    13830       1      0         1   \n",
       "1464          60         1         78.0     9978       1      0         1   \n",
       "1465         120         1         43.0     5005       1      0         1   \n",
       "...          ...       ...          ...      ...     ...    ...       ...   \n",
       "2915         160         1         21.0     1936       1      0         0   \n",
       "2916         160         1         21.0     1894       1      0         0   \n",
       "2917          20         1        160.0    20000       1      0         0   \n",
       "2918          85         1         62.0    10441       1      0         0   \n",
       "2919          60         1         74.0     9627       1      0         0   \n",
       "\n",
       "      LandContour  Utilities  LotConfig  ...  PoolArea  PoolQC  Fence  \\\n",
       "Id                                       ...                            \n",
       "1461            0          1          0  ...         0       0      1   \n",
       "1462            0          1          3  ...         0       0      0   \n",
       "1463            0          1          0  ...         0       0      1   \n",
       "1464            0          1          0  ...         0       0      0   \n",
       "1465            1          1          0  ...         0       0      0   \n",
       "...           ...        ...        ...  ...       ...     ...    ...   \n",
       "2915            0          1          0  ...         0       0      0   \n",
       "2916            0          1          0  ...         0       0      0   \n",
       "2917            0          1          0  ...         0       0      0   \n",
       "2918            0          1          0  ...         0       0      1   \n",
       "2919            0          1          0  ...         0       0      0   \n",
       "\n",
       "      MiscFeature  MiscVal  MoSold  YrSold  SaleType  SaleCondition  \\\n",
       "Id                                                                    \n",
       "1461            0        0       6    2010         5              4   \n",
       "1462            2    12500       6    2010         5              4   \n",
       "1463            0        0       1    2010         5              4   \n",
       "1464            0        0       6    2010         5              4   \n",
       "1465            0        0       1    2010         5              4   \n",
       "...           ...      ...     ...     ...       ...            ...   \n",
       "2915            0        0       6    2006         5              4   \n",
       "2916            0        0       3    2006         5              2   \n",
       "2917            0        0       9    2006         5              2   \n",
       "2918            1      700       1    2006         5              4   \n",
       "2919            0        0      11    2006         5              4   \n",
       "\n",
       "      GarageYrBlt_grouped  \n",
       "Id                         \n",
       "1461                    1  \n",
       "1462                    1  \n",
       "1463                   11  \n",
       "1464                   11  \n",
       "1465                   11  \n",
       "...                   ...  \n",
       "2915                    1  \n",
       "2916                    1  \n",
       "2917                    1  \n",
       "2918                    1  \n",
       "2919                   11  \n",
       "\n",
       "[1459 rows x 79 columns]"
      ]
     },
     "execution_count": 208,
     "metadata": {},
     "output_type": "execute_result"
    }
   ],
   "source": [
    "X_test"
   ]
  },
  {
   "cell_type": "code",
   "execution_count": 260,
   "metadata": {
    "ExecuteTime": {
     "end_time": "2021-04-30T09:09:13.052260Z",
     "start_time": "2021-04-30T09:09:05.380241Z"
    }
   },
   "outputs": [
    {
     "name": "stdout",
     "output_type": "stream",
     "text": [
      "The accuracy for ensembled model is: 0.8508969814124729\n"
     ]
    }
   ],
   "source": [
    "from sklearn.ensemble import VotingRegressor\n",
    "ensemble_lin_rbf=VotingRegressor(estimators=[( 'RFR', RandomForestRegressor(random_state=None, n_estimators=1000)),\n",
    "                                               ('XGB', gd.best_estimator_)],\n",
    "                                      ).fit(X_train1,y_train1)\n",
    "print('The accuracy for ensembled model is:',ensemble_lin_rbf.score(X_validation,y_validation))\n"
   ]
  },
  {
   "cell_type": "code",
   "execution_count": 261,
   "metadata": {
    "ExecuteTime": {
     "end_time": "2021-04-30T09:09:13.193087Z",
     "start_time": "2021-04-30T09:09:13.054271Z"
    }
   },
   "outputs": [
    {
     "data": {
      "text/plain": [
       "0.14044450010976192"
      ]
     },
     "execution_count": 261,
     "metadata": {},
     "output_type": "execute_result"
    }
   ],
   "source": [
    "from sklearn.metrics import mean_squared_log_error\n",
    "np.sqrt(mean_squared_log_error(y_validation, ensemble_lin_rbf.predict(X_validation)))"
   ]
  },
  {
   "cell_type": "code",
   "execution_count": 224,
   "metadata": {
    "ExecuteTime": {
     "end_time": "2021-04-30T08:40:06.802732Z",
     "start_time": "2021-04-30T08:40:06.582285Z"
    }
   },
   "outputs": [],
   "source": [
    "pd.DataFrame({'Id':X_test.index, 'SalePrice':ensemble_lin_rbf.predict(X_test)}).to_csv('house_result.csv', index=False)"
   ]
  },
  {
   "cell_type": "code",
   "execution_count": null,
   "metadata": {},
   "outputs": [],
   "source": []
  }
 ],
 "metadata": {
  "kernelspec": {
   "display_name": "Python 3",
   "language": "python",
   "name": "python3"
  },
  "language_info": {
   "codemirror_mode": {
    "name": "ipython",
    "version": 3
   },
   "file_extension": ".py",
   "mimetype": "text/x-python",
   "name": "python",
   "nbconvert_exporter": "python",
   "pygments_lexer": "ipython3",
   "version": "3.8.3"
  }
 },
 "nbformat": 4,
 "nbformat_minor": 4
}
